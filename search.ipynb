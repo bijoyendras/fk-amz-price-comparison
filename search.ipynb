{
  "nbformat": 4,
  "nbformat_minor": 0,
  "metadata": {
    "colab": {
      "provenance": []
    },
    "kernelspec": {
      "name": "python3",
      "display_name": "Python 3"
    },
    "language_info": {
      "name": "python"
    }
  },
  "cells": [
    {
      "cell_type": "markdown",
      "source": [
        "#Q:Match similar products from the Flipkart dataset with the Amazon dataset"
      ],
      "metadata": {
        "id": "nU6BgTzdE8lZ"
      }
    },
    {
      "cell_type": "markdown",
      "source": [
        "Importing libraries"
      ],
      "metadata": {
        "id": "4T0_06Tfp59y"
      }
    },
    {
      "cell_type": "code",
      "execution_count": 1,
      "metadata": {
        "id": "XKyW0cWypVbk"
      },
      "outputs": [],
      "source": [
        "import pandas as pd\n",
        "import numpy as np\n",
        "import matplotlib.pyplot as plt\n",
        "import seaborn as sns"
      ]
    },
    {
      "cell_type": "markdown",
      "source": [
        "Loading the Dataset"
      ],
      "metadata": {
        "id": "OrqMKGB6qAOF"
      }
    },
    {
      "cell_type": "code",
      "source": [
        "amazon = pd.read_excel('/content/amz_com.xlsx')"
      ],
      "metadata": {
        "id": "ChdmiV3Gs6YF"
      },
      "execution_count": 2,
      "outputs": []
    },
    {
      "cell_type": "code",
      "source": [
        "flipkart = pd.read_excel('/content/flipkart_com.xlsx')"
      ],
      "metadata": {
        "id": "y7_9-pyHw9fO"
      },
      "execution_count": 3,
      "outputs": []
    },
    {
      "cell_type": "code",
      "source": [
        "amazon.head()"
      ],
      "metadata": {
        "colab": {
          "base_uri": "https://localhost:8080/",
          "height": 635
        },
        "id": "kfZjF0H1xFSW",
        "outputId": "8d94594b-c364-4da0-c336-7ab2342c2b5f"
      },
      "execution_count": 4,
      "outputs": [
        {
          "output_type": "execute_result",
          "data": {
            "text/plain": [
              "                            uniq_id            crawl_timestamp  \\\n",
              "0  ec475b0eb06a90ee1ec5794a314e065d  2015-12-01 06:13:00 +0000   \n",
              "1  6eade120ebeade57fcbc1120a6a2eeae  2015-12-01 06:13:00 +0000   \n",
              "2  f4ff5c04e3bb1171fbf06aa9154cf90c  2016-06-10 11:36:05 +0000   \n",
              "3  72251c555e30c587a23bd01ca73868ac  2015-12-01 12:40:44 +0000   \n",
              "4  cf519942dbf21758504367ad8795d418  2015-12-30 00:17:46 +0000   \n",
              "\n",
              "                                         product_url  \\\n",
              "0  http://www.flipkart.com/jewelizer-alloy-neckla...   \n",
              "1  http://www.flipkart.com/abb-premium-make-6-one...   \n",
              "2  http://www.flipkart.com/monmione-women-s-push-...   \n",
              "3  http://www.flipkart.com/allure-auto-cm-839-car...   \n",
              "4  http://www.flipkart.com/india-inc-women-s-prin...   \n",
              "\n",
              "                                      product_name  \\\n",
              "0                         Jewelizer Alloy Necklace   \n",
              "1     ABB Premium Make 6 One Way Electrical Switch   \n",
              "2                     Monmione Women's Push-up Bra   \n",
              "3  Allure Auto CM 839 Car Mat Toyota Corolla Altis   \n",
              "4           India Inc Women's Printed Casual Shirt   \n",
              "\n",
              "                               product_category_tree               pid  \\\n",
              "0   [\"Jewellery >> Necklaces & Chains >> Necklaces\"]  NKCDSCF3GCSWCNMP   \n",
              "1  [\"Home Improvement >> Electricals >> Switches ...  SCHE5Z57FHVKZD3C   \n",
              "2  [\"Clothing >> Women's Clothing >> Sports & Gym...  BRAEGGPYTPBPJ3AD   \n",
              "3  [\"Automotive >> Accessories & Spare parts >> C...  CRTECN2QW62MTXAJ   \n",
              "4  [\"Clothing >> Women's Clothing >> Western Wear...  SHTED87SZDKZSCUH   \n",
              "\n",
              "   retail_price  discounted_price  \\\n",
              "0           -20                 0   \n",
              "1           -20                 0   \n",
              "2           -20                 0   \n",
              "3           -19                 0   \n",
              "4           -19                 0   \n",
              "\n",
              "                                               image  is_FK_Advantage_product  \\\n",
              "0  [\"http://img5a.flixcart.com/image/necklace-cha...                    False   \n",
              "1  [\"http://img5a.flixcart.com/image/electrical-s...                    False   \n",
              "2  [\"http://img5a.flixcart.com/image/bra/x/y/a/fc...                    False   \n",
              "3  [\"http://img6a.flixcart.com/image/car-mat/e/k/...                    False   \n",
              "4  [\"http://img6a.flixcart.com/image/shirt/t/g/u/...                    False   \n",
              "\n",
              "                                         description       product_rating  \\\n",
              "0  Jewelizer Alloy Necklace - Buy Jewelizer Alloy...  No rating available   \n",
              "1  ABB Premium Make 6 One Way Electrical Switch (...  No rating available   \n",
              "2  Specifications of Monmione Women's Push-up Bra...  No rating available   \n",
              "3  Buy Allure Auto CM 839 Car Mat Toyota Corolla ...  No rating available   \n",
              "4  India Inc Women's Printed Casual Shirt\\n      ...  No rating available   \n",
              "\n",
              "        overall_rating        brand  \\\n",
              "0  No rating available    Jewelizer   \n",
              "1  No rating available          ABB   \n",
              "2  No rating available     Monmione   \n",
              "3  No rating available  Allure Auto   \n",
              "4  No rating available   Normal Fit   \n",
              "\n",
              "                              product_specifications  \n",
              "0  {\"product_specification\"=>[{\"key\"=>\"Brand\", \"v...  \n",
              "1  {\"product_specification\"=>[{\"key\"=>\"Brand\", \"v...  \n",
              "2  {\"product_specification\"=>[{\"key\"=>\"Brand Colo...  \n",
              "3  {\"product_specification\"=>[{\"key\"=>\"Brand\", \"v...  \n",
              "4  {\"product_specification\"=>[{\"key\"=>\"Pattern\", ...  "
            ],
            "text/html": [
              "\n",
              "  <div id=\"df-ce17a1c5-d06b-4ba1-a914-54462a495e9f\">\n",
              "    <div class=\"colab-df-container\">\n",
              "      <div>\n",
              "<style scoped>\n",
              "    .dataframe tbody tr th:only-of-type {\n",
              "        vertical-align: middle;\n",
              "    }\n",
              "\n",
              "    .dataframe tbody tr th {\n",
              "        vertical-align: top;\n",
              "    }\n",
              "\n",
              "    .dataframe thead th {\n",
              "        text-align: right;\n",
              "    }\n",
              "</style>\n",
              "<table border=\"1\" class=\"dataframe\">\n",
              "  <thead>\n",
              "    <tr style=\"text-align: right;\">\n",
              "      <th></th>\n",
              "      <th>uniq_id</th>\n",
              "      <th>crawl_timestamp</th>\n",
              "      <th>product_url</th>\n",
              "      <th>product_name</th>\n",
              "      <th>product_category_tree</th>\n",
              "      <th>pid</th>\n",
              "      <th>retail_price</th>\n",
              "      <th>discounted_price</th>\n",
              "      <th>image</th>\n",
              "      <th>is_FK_Advantage_product</th>\n",
              "      <th>description</th>\n",
              "      <th>product_rating</th>\n",
              "      <th>overall_rating</th>\n",
              "      <th>brand</th>\n",
              "      <th>product_specifications</th>\n",
              "    </tr>\n",
              "  </thead>\n",
              "  <tbody>\n",
              "    <tr>\n",
              "      <th>0</th>\n",
              "      <td>ec475b0eb06a90ee1ec5794a314e065d</td>\n",
              "      <td>2015-12-01 06:13:00 +0000</td>\n",
              "      <td>http://www.flipkart.com/jewelizer-alloy-neckla...</td>\n",
              "      <td>Jewelizer Alloy Necklace</td>\n",
              "      <td>[\"Jewellery &gt;&gt; Necklaces &amp; Chains &gt;&gt; Necklaces\"]</td>\n",
              "      <td>NKCDSCF3GCSWCNMP</td>\n",
              "      <td>-20</td>\n",
              "      <td>0</td>\n",
              "      <td>[\"http://img5a.flixcart.com/image/necklace-cha...</td>\n",
              "      <td>False</td>\n",
              "      <td>Jewelizer Alloy Necklace - Buy Jewelizer Alloy...</td>\n",
              "      <td>No rating available</td>\n",
              "      <td>No rating available</td>\n",
              "      <td>Jewelizer</td>\n",
              "      <td>{\"product_specification\"=&gt;[{\"key\"=&gt;\"Brand\", \"v...</td>\n",
              "    </tr>\n",
              "    <tr>\n",
              "      <th>1</th>\n",
              "      <td>6eade120ebeade57fcbc1120a6a2eeae</td>\n",
              "      <td>2015-12-01 06:13:00 +0000</td>\n",
              "      <td>http://www.flipkart.com/abb-premium-make-6-one...</td>\n",
              "      <td>ABB Premium Make 6 One Way Electrical Switch</td>\n",
              "      <td>[\"Home Improvement &gt;&gt; Electricals &gt;&gt; Switches ...</td>\n",
              "      <td>SCHE5Z57FHVKZD3C</td>\n",
              "      <td>-20</td>\n",
              "      <td>0</td>\n",
              "      <td>[\"http://img5a.flixcart.com/image/electrical-s...</td>\n",
              "      <td>False</td>\n",
              "      <td>ABB Premium Make 6 One Way Electrical Switch (...</td>\n",
              "      <td>No rating available</td>\n",
              "      <td>No rating available</td>\n",
              "      <td>ABB</td>\n",
              "      <td>{\"product_specification\"=&gt;[{\"key\"=&gt;\"Brand\", \"v...</td>\n",
              "    </tr>\n",
              "    <tr>\n",
              "      <th>2</th>\n",
              "      <td>f4ff5c04e3bb1171fbf06aa9154cf90c</td>\n",
              "      <td>2016-06-10 11:36:05 +0000</td>\n",
              "      <td>http://www.flipkart.com/monmione-women-s-push-...</td>\n",
              "      <td>Monmione Women's Push-up Bra</td>\n",
              "      <td>[\"Clothing &gt;&gt; Women's Clothing &gt;&gt; Sports &amp; Gym...</td>\n",
              "      <td>BRAEGGPYTPBPJ3AD</td>\n",
              "      <td>-20</td>\n",
              "      <td>0</td>\n",
              "      <td>[\"http://img5a.flixcart.com/image/bra/x/y/a/fc...</td>\n",
              "      <td>False</td>\n",
              "      <td>Specifications of Monmione Women's Push-up Bra...</td>\n",
              "      <td>No rating available</td>\n",
              "      <td>No rating available</td>\n",
              "      <td>Monmione</td>\n",
              "      <td>{\"product_specification\"=&gt;[{\"key\"=&gt;\"Brand Colo...</td>\n",
              "    </tr>\n",
              "    <tr>\n",
              "      <th>3</th>\n",
              "      <td>72251c555e30c587a23bd01ca73868ac</td>\n",
              "      <td>2015-12-01 12:40:44 +0000</td>\n",
              "      <td>http://www.flipkart.com/allure-auto-cm-839-car...</td>\n",
              "      <td>Allure Auto CM 839 Car Mat Toyota Corolla Altis</td>\n",
              "      <td>[\"Automotive &gt;&gt; Accessories &amp; Spare parts &gt;&gt; C...</td>\n",
              "      <td>CRTECN2QW62MTXAJ</td>\n",
              "      <td>-19</td>\n",
              "      <td>0</td>\n",
              "      <td>[\"http://img6a.flixcart.com/image/car-mat/e/k/...</td>\n",
              "      <td>False</td>\n",
              "      <td>Buy Allure Auto CM 839 Car Mat Toyota Corolla ...</td>\n",
              "      <td>No rating available</td>\n",
              "      <td>No rating available</td>\n",
              "      <td>Allure Auto</td>\n",
              "      <td>{\"product_specification\"=&gt;[{\"key\"=&gt;\"Brand\", \"v...</td>\n",
              "    </tr>\n",
              "    <tr>\n",
              "      <th>4</th>\n",
              "      <td>cf519942dbf21758504367ad8795d418</td>\n",
              "      <td>2015-12-30 00:17:46 +0000</td>\n",
              "      <td>http://www.flipkart.com/india-inc-women-s-prin...</td>\n",
              "      <td>India Inc Women's Printed Casual Shirt</td>\n",
              "      <td>[\"Clothing &gt;&gt; Women's Clothing &gt;&gt; Western Wear...</td>\n",
              "      <td>SHTED87SZDKZSCUH</td>\n",
              "      <td>-19</td>\n",
              "      <td>0</td>\n",
              "      <td>[\"http://img6a.flixcart.com/image/shirt/t/g/u/...</td>\n",
              "      <td>False</td>\n",
              "      <td>India Inc Women's Printed Casual Shirt\\n      ...</td>\n",
              "      <td>No rating available</td>\n",
              "      <td>No rating available</td>\n",
              "      <td>Normal Fit</td>\n",
              "      <td>{\"product_specification\"=&gt;[{\"key\"=&gt;\"Pattern\", ...</td>\n",
              "    </tr>\n",
              "  </tbody>\n",
              "</table>\n",
              "</div>\n",
              "      <button class=\"colab-df-convert\" onclick=\"convertToInteractive('df-ce17a1c5-d06b-4ba1-a914-54462a495e9f')\"\n",
              "              title=\"Convert this dataframe to an interactive table.\"\n",
              "              style=\"display:none;\">\n",
              "        \n",
              "  <svg xmlns=\"http://www.w3.org/2000/svg\" height=\"24px\"viewBox=\"0 0 24 24\"\n",
              "       width=\"24px\">\n",
              "    <path d=\"M0 0h24v24H0V0z\" fill=\"none\"/>\n",
              "    <path d=\"M18.56 5.44l.94 2.06.94-2.06 2.06-.94-2.06-.94-.94-2.06-.94 2.06-2.06.94zm-11 1L8.5 8.5l.94-2.06 2.06-.94-2.06-.94L8.5 2.5l-.94 2.06-2.06.94zm10 10l.94 2.06.94-2.06 2.06-.94-2.06-.94-.94-2.06-.94 2.06-2.06.94z\"/><path d=\"M17.41 7.96l-1.37-1.37c-.4-.4-.92-.59-1.43-.59-.52 0-1.04.2-1.43.59L10.3 9.45l-7.72 7.72c-.78.78-.78 2.05 0 2.83L4 21.41c.39.39.9.59 1.41.59.51 0 1.02-.2 1.41-.59l7.78-7.78 2.81-2.81c.8-.78.8-2.07 0-2.86zM5.41 20L4 18.59l7.72-7.72 1.47 1.35L5.41 20z\"/>\n",
              "  </svg>\n",
              "      </button>\n",
              "      \n",
              "  <style>\n",
              "    .colab-df-container {\n",
              "      display:flex;\n",
              "      flex-wrap:wrap;\n",
              "      gap: 12px;\n",
              "    }\n",
              "\n",
              "    .colab-df-convert {\n",
              "      background-color: #E8F0FE;\n",
              "      border: none;\n",
              "      border-radius: 50%;\n",
              "      cursor: pointer;\n",
              "      display: none;\n",
              "      fill: #1967D2;\n",
              "      height: 32px;\n",
              "      padding: 0 0 0 0;\n",
              "      width: 32px;\n",
              "    }\n",
              "\n",
              "    .colab-df-convert:hover {\n",
              "      background-color: #E2EBFA;\n",
              "      box-shadow: 0px 1px 2px rgba(60, 64, 67, 0.3), 0px 1px 3px 1px rgba(60, 64, 67, 0.15);\n",
              "      fill: #174EA6;\n",
              "    }\n",
              "\n",
              "    [theme=dark] .colab-df-convert {\n",
              "      background-color: #3B4455;\n",
              "      fill: #D2E3FC;\n",
              "    }\n",
              "\n",
              "    [theme=dark] .colab-df-convert:hover {\n",
              "      background-color: #434B5C;\n",
              "      box-shadow: 0px 1px 3px 1px rgba(0, 0, 0, 0.15);\n",
              "      filter: drop-shadow(0px 1px 2px rgba(0, 0, 0, 0.3));\n",
              "      fill: #FFFFFF;\n",
              "    }\n",
              "  </style>\n",
              "\n",
              "      <script>\n",
              "        const buttonEl =\n",
              "          document.querySelector('#df-ce17a1c5-d06b-4ba1-a914-54462a495e9f button.colab-df-convert');\n",
              "        buttonEl.style.display =\n",
              "          google.colab.kernel.accessAllowed ? 'block' : 'none';\n",
              "\n",
              "        async function convertToInteractive(key) {\n",
              "          const element = document.querySelector('#df-ce17a1c5-d06b-4ba1-a914-54462a495e9f');\n",
              "          const dataTable =\n",
              "            await google.colab.kernel.invokeFunction('convertToInteractive',\n",
              "                                                     [key], {});\n",
              "          if (!dataTable) return;\n",
              "\n",
              "          const docLinkHtml = 'Like what you see? Visit the ' +\n",
              "            '<a target=\"_blank\" href=https://colab.research.google.com/notebooks/data_table.ipynb>data table notebook</a>'\n",
              "            + ' to learn more about interactive tables.';\n",
              "          element.innerHTML = '';\n",
              "          dataTable['output_type'] = 'display_data';\n",
              "          await google.colab.output.renderOutput(dataTable, element);\n",
              "          const docLink = document.createElement('div');\n",
              "          docLink.innerHTML = docLinkHtml;\n",
              "          element.appendChild(docLink);\n",
              "        }\n",
              "      </script>\n",
              "    </div>\n",
              "  </div>\n",
              "  "
            ]
          },
          "metadata": {},
          "execution_count": 4
        }
      ]
    },
    {
      "cell_type": "code",
      "source": [
        "flipkart.head()"
      ],
      "metadata": {
        "colab": {
          "base_uri": "https://localhost:8080/",
          "height": 531
        },
        "id": "_3bE-YRvxHX5",
        "outputId": "b6fc9ddc-b761-48b2-9d20-d84a3afddcea"
      },
      "execution_count": 5,
      "outputs": [
        {
          "output_type": "execute_result",
          "data": {
            "text/plain": [
              "                            uniq_id            crawl_timestamp  \\\n",
              "0  c2d766ca982eca8304150849735ffef9  2016-03-25 22:59:23 +0000   \n",
              "1  7f7036a6d550aaa89d34c77bd39a5e48  2016-03-25 22:59:23 +0000   \n",
              "2  f449ec65dcbc041b6ae5e6a32717d01b  2016-03-25 22:59:23 +0000   \n",
              "3  0973b37acd0c664e3de26e97e5571454  2016-03-25 22:59:23 +0000   \n",
              "4  bc940ea42ee6bef5ac7cea3fb5cfbee7  2016-03-25 22:59:23 +0000   \n",
              "\n",
              "                                         product_url  \\\n",
              "0  http://www.flipkart.com/alisha-solid-women-s-c...   \n",
              "1  http://www.flipkart.com/fabhomedecor-fabric-do...   \n",
              "2  http://www.flipkart.com/aw-bellies/p/itmeh4grg...   \n",
              "3  http://www.flipkart.com/alisha-solid-women-s-c...   \n",
              "4  http://www.flipkart.com/sicons-all-purpose-arn...   \n",
              "\n",
              "                            product_name  \\\n",
              "0    Alisha Solid Women's Cycling Shorts   \n",
              "1    FabHomeDecor Fabric Double Sofa Bed   \n",
              "2                             AW Bellies   \n",
              "3    Alisha Solid Women's Cycling Shorts   \n",
              "4  Sicons All Purpose Arnica Dog Shampoo   \n",
              "\n",
              "                               product_category_tree               pid  \\\n",
              "0  [\"Clothing >> Women's Clothing >> Lingerie, Sl...  SRTEH2FF9KEDEFGF   \n",
              "1  [\"Furniture >> Living Room Furniture >> Sofa B...  SBEEH3QGU7MFYJFY   \n",
              "2  [\"Footwear >> Women's Footwear >> Ballerinas >...  SHOEH4GRSUBJGZXE   \n",
              "3  [\"Clothing >> Women's Clothing >> Lingerie, Sl...  SRTEH2F6HUZMQ6SJ   \n",
              "4  [\"Pet Supplies >> Grooming >> Skin & Coat Care...  PSOEH3ZYDMSYARJ5   \n",
              "\n",
              "   retail_price  discounted_price  \\\n",
              "0         999.0             379.0   \n",
              "1       32157.0           22646.0   \n",
              "2         999.0             499.0   \n",
              "3         699.0             267.0   \n",
              "4         220.0             210.0   \n",
              "\n",
              "                                               image  is_FK_Advantage_product  \\\n",
              "0  [\"http://img5a.flixcart.com/image/short/u/4/a/...                    False   \n",
              "1  [\"http://img6a.flixcart.com/image/sofa-bed/j/f...                    False   \n",
              "2  [\"http://img5a.flixcart.com/image/shoe/7/z/z/r...                    False   \n",
              "3  [\"http://img5a.flixcart.com/image/short/6/2/h/...                    False   \n",
              "4  [\"http://img5a.flixcart.com/image/pet-shampoo/...                    False   \n",
              "\n",
              "                                         description       product_rating  \\\n",
              "0  Key Features of Alisha Solid Women's Cycling S...  No rating available   \n",
              "1  FabHomeDecor Fabric Double Sofa Bed (Finish Co...  No rating available   \n",
              "2  Key Features of AW Bellies Sandals Wedges Heel...  No rating available   \n",
              "3  Key Features of Alisha Solid Women's Cycling S...  No rating available   \n",
              "4  Specifications of Sicons All Purpose Arnica Do...  No rating available   \n",
              "\n",
              "        overall_rating         brand  \\\n",
              "0  No rating available        Alisha   \n",
              "1  No rating available  FabHomeDecor   \n",
              "2  No rating available            AW   \n",
              "3  No rating available        Alisha   \n",
              "4  No rating available        Sicons   \n",
              "\n",
              "                              product_specifications  \n",
              "0  {\"product_specification\"=>[{\"key\"=>\"Number of ...  \n",
              "1  {\"product_specification\"=>[{\"key\"=>\"Installati...  \n",
              "2  {\"product_specification\"=>[{\"key\"=>\"Ideal For\"...  \n",
              "3  {\"product_specification\"=>[{\"key\"=>\"Number of ...  \n",
              "4  {\"product_specification\"=>[{\"key\"=>\"Pet Type\",...  "
            ],
            "text/html": [
              "\n",
              "  <div id=\"df-983f77dd-55dd-4be4-902e-786441a11084\">\n",
              "    <div class=\"colab-df-container\">\n",
              "      <div>\n",
              "<style scoped>\n",
              "    .dataframe tbody tr th:only-of-type {\n",
              "        vertical-align: middle;\n",
              "    }\n",
              "\n",
              "    .dataframe tbody tr th {\n",
              "        vertical-align: top;\n",
              "    }\n",
              "\n",
              "    .dataframe thead th {\n",
              "        text-align: right;\n",
              "    }\n",
              "</style>\n",
              "<table border=\"1\" class=\"dataframe\">\n",
              "  <thead>\n",
              "    <tr style=\"text-align: right;\">\n",
              "      <th></th>\n",
              "      <th>uniq_id</th>\n",
              "      <th>crawl_timestamp</th>\n",
              "      <th>product_url</th>\n",
              "      <th>product_name</th>\n",
              "      <th>product_category_tree</th>\n",
              "      <th>pid</th>\n",
              "      <th>retail_price</th>\n",
              "      <th>discounted_price</th>\n",
              "      <th>image</th>\n",
              "      <th>is_FK_Advantage_product</th>\n",
              "      <th>description</th>\n",
              "      <th>product_rating</th>\n",
              "      <th>overall_rating</th>\n",
              "      <th>brand</th>\n",
              "      <th>product_specifications</th>\n",
              "    </tr>\n",
              "  </thead>\n",
              "  <tbody>\n",
              "    <tr>\n",
              "      <th>0</th>\n",
              "      <td>c2d766ca982eca8304150849735ffef9</td>\n",
              "      <td>2016-03-25 22:59:23 +0000</td>\n",
              "      <td>http://www.flipkart.com/alisha-solid-women-s-c...</td>\n",
              "      <td>Alisha Solid Women's Cycling Shorts</td>\n",
              "      <td>[\"Clothing &gt;&gt; Women's Clothing &gt;&gt; Lingerie, Sl...</td>\n",
              "      <td>SRTEH2FF9KEDEFGF</td>\n",
              "      <td>999.0</td>\n",
              "      <td>379.0</td>\n",
              "      <td>[\"http://img5a.flixcart.com/image/short/u/4/a/...</td>\n",
              "      <td>False</td>\n",
              "      <td>Key Features of Alisha Solid Women's Cycling S...</td>\n",
              "      <td>No rating available</td>\n",
              "      <td>No rating available</td>\n",
              "      <td>Alisha</td>\n",
              "      <td>{\"product_specification\"=&gt;[{\"key\"=&gt;\"Number of ...</td>\n",
              "    </tr>\n",
              "    <tr>\n",
              "      <th>1</th>\n",
              "      <td>7f7036a6d550aaa89d34c77bd39a5e48</td>\n",
              "      <td>2016-03-25 22:59:23 +0000</td>\n",
              "      <td>http://www.flipkart.com/fabhomedecor-fabric-do...</td>\n",
              "      <td>FabHomeDecor Fabric Double Sofa Bed</td>\n",
              "      <td>[\"Furniture &gt;&gt; Living Room Furniture &gt;&gt; Sofa B...</td>\n",
              "      <td>SBEEH3QGU7MFYJFY</td>\n",
              "      <td>32157.0</td>\n",
              "      <td>22646.0</td>\n",
              "      <td>[\"http://img6a.flixcart.com/image/sofa-bed/j/f...</td>\n",
              "      <td>False</td>\n",
              "      <td>FabHomeDecor Fabric Double Sofa Bed (Finish Co...</td>\n",
              "      <td>No rating available</td>\n",
              "      <td>No rating available</td>\n",
              "      <td>FabHomeDecor</td>\n",
              "      <td>{\"product_specification\"=&gt;[{\"key\"=&gt;\"Installati...</td>\n",
              "    </tr>\n",
              "    <tr>\n",
              "      <th>2</th>\n",
              "      <td>f449ec65dcbc041b6ae5e6a32717d01b</td>\n",
              "      <td>2016-03-25 22:59:23 +0000</td>\n",
              "      <td>http://www.flipkart.com/aw-bellies/p/itmeh4grg...</td>\n",
              "      <td>AW Bellies</td>\n",
              "      <td>[\"Footwear &gt;&gt; Women's Footwear &gt;&gt; Ballerinas &gt;...</td>\n",
              "      <td>SHOEH4GRSUBJGZXE</td>\n",
              "      <td>999.0</td>\n",
              "      <td>499.0</td>\n",
              "      <td>[\"http://img5a.flixcart.com/image/shoe/7/z/z/r...</td>\n",
              "      <td>False</td>\n",
              "      <td>Key Features of AW Bellies Sandals Wedges Heel...</td>\n",
              "      <td>No rating available</td>\n",
              "      <td>No rating available</td>\n",
              "      <td>AW</td>\n",
              "      <td>{\"product_specification\"=&gt;[{\"key\"=&gt;\"Ideal For\"...</td>\n",
              "    </tr>\n",
              "    <tr>\n",
              "      <th>3</th>\n",
              "      <td>0973b37acd0c664e3de26e97e5571454</td>\n",
              "      <td>2016-03-25 22:59:23 +0000</td>\n",
              "      <td>http://www.flipkart.com/alisha-solid-women-s-c...</td>\n",
              "      <td>Alisha Solid Women's Cycling Shorts</td>\n",
              "      <td>[\"Clothing &gt;&gt; Women's Clothing &gt;&gt; Lingerie, Sl...</td>\n",
              "      <td>SRTEH2F6HUZMQ6SJ</td>\n",
              "      <td>699.0</td>\n",
              "      <td>267.0</td>\n",
              "      <td>[\"http://img5a.flixcart.com/image/short/6/2/h/...</td>\n",
              "      <td>False</td>\n",
              "      <td>Key Features of Alisha Solid Women's Cycling S...</td>\n",
              "      <td>No rating available</td>\n",
              "      <td>No rating available</td>\n",
              "      <td>Alisha</td>\n",
              "      <td>{\"product_specification\"=&gt;[{\"key\"=&gt;\"Number of ...</td>\n",
              "    </tr>\n",
              "    <tr>\n",
              "      <th>4</th>\n",
              "      <td>bc940ea42ee6bef5ac7cea3fb5cfbee7</td>\n",
              "      <td>2016-03-25 22:59:23 +0000</td>\n",
              "      <td>http://www.flipkart.com/sicons-all-purpose-arn...</td>\n",
              "      <td>Sicons All Purpose Arnica Dog Shampoo</td>\n",
              "      <td>[\"Pet Supplies &gt;&gt; Grooming &gt;&gt; Skin &amp; Coat Care...</td>\n",
              "      <td>PSOEH3ZYDMSYARJ5</td>\n",
              "      <td>220.0</td>\n",
              "      <td>210.0</td>\n",
              "      <td>[\"http://img5a.flixcart.com/image/pet-shampoo/...</td>\n",
              "      <td>False</td>\n",
              "      <td>Specifications of Sicons All Purpose Arnica Do...</td>\n",
              "      <td>No rating available</td>\n",
              "      <td>No rating available</td>\n",
              "      <td>Sicons</td>\n",
              "      <td>{\"product_specification\"=&gt;[{\"key\"=&gt;\"Pet Type\",...</td>\n",
              "    </tr>\n",
              "  </tbody>\n",
              "</table>\n",
              "</div>\n",
              "      <button class=\"colab-df-convert\" onclick=\"convertToInteractive('df-983f77dd-55dd-4be4-902e-786441a11084')\"\n",
              "              title=\"Convert this dataframe to an interactive table.\"\n",
              "              style=\"display:none;\">\n",
              "        \n",
              "  <svg xmlns=\"http://www.w3.org/2000/svg\" height=\"24px\"viewBox=\"0 0 24 24\"\n",
              "       width=\"24px\">\n",
              "    <path d=\"M0 0h24v24H0V0z\" fill=\"none\"/>\n",
              "    <path d=\"M18.56 5.44l.94 2.06.94-2.06 2.06-.94-2.06-.94-.94-2.06-.94 2.06-2.06.94zm-11 1L8.5 8.5l.94-2.06 2.06-.94-2.06-.94L8.5 2.5l-.94 2.06-2.06.94zm10 10l.94 2.06.94-2.06 2.06-.94-2.06-.94-.94-2.06-.94 2.06-2.06.94z\"/><path d=\"M17.41 7.96l-1.37-1.37c-.4-.4-.92-.59-1.43-.59-.52 0-1.04.2-1.43.59L10.3 9.45l-7.72 7.72c-.78.78-.78 2.05 0 2.83L4 21.41c.39.39.9.59 1.41.59.51 0 1.02-.2 1.41-.59l7.78-7.78 2.81-2.81c.8-.78.8-2.07 0-2.86zM5.41 20L4 18.59l7.72-7.72 1.47 1.35L5.41 20z\"/>\n",
              "  </svg>\n",
              "      </button>\n",
              "      \n",
              "  <style>\n",
              "    .colab-df-container {\n",
              "      display:flex;\n",
              "      flex-wrap:wrap;\n",
              "      gap: 12px;\n",
              "    }\n",
              "\n",
              "    .colab-df-convert {\n",
              "      background-color: #E8F0FE;\n",
              "      border: none;\n",
              "      border-radius: 50%;\n",
              "      cursor: pointer;\n",
              "      display: none;\n",
              "      fill: #1967D2;\n",
              "      height: 32px;\n",
              "      padding: 0 0 0 0;\n",
              "      width: 32px;\n",
              "    }\n",
              "\n",
              "    .colab-df-convert:hover {\n",
              "      background-color: #E2EBFA;\n",
              "      box-shadow: 0px 1px 2px rgba(60, 64, 67, 0.3), 0px 1px 3px 1px rgba(60, 64, 67, 0.15);\n",
              "      fill: #174EA6;\n",
              "    }\n",
              "\n",
              "    [theme=dark] .colab-df-convert {\n",
              "      background-color: #3B4455;\n",
              "      fill: #D2E3FC;\n",
              "    }\n",
              "\n",
              "    [theme=dark] .colab-df-convert:hover {\n",
              "      background-color: #434B5C;\n",
              "      box-shadow: 0px 1px 3px 1px rgba(0, 0, 0, 0.15);\n",
              "      filter: drop-shadow(0px 1px 2px rgba(0, 0, 0, 0.3));\n",
              "      fill: #FFFFFF;\n",
              "    }\n",
              "  </style>\n",
              "\n",
              "      <script>\n",
              "        const buttonEl =\n",
              "          document.querySelector('#df-983f77dd-55dd-4be4-902e-786441a11084 button.colab-df-convert');\n",
              "        buttonEl.style.display =\n",
              "          google.colab.kernel.accessAllowed ? 'block' : 'none';\n",
              "\n",
              "        async function convertToInteractive(key) {\n",
              "          const element = document.querySelector('#df-983f77dd-55dd-4be4-902e-786441a11084');\n",
              "          const dataTable =\n",
              "            await google.colab.kernel.invokeFunction('convertToInteractive',\n",
              "                                                     [key], {});\n",
              "          if (!dataTable) return;\n",
              "\n",
              "          const docLinkHtml = 'Like what you see? Visit the ' +\n",
              "            '<a target=\"_blank\" href=https://colab.research.google.com/notebooks/data_table.ipynb>data table notebook</a>'\n",
              "            + ' to learn more about interactive tables.';\n",
              "          element.innerHTML = '';\n",
              "          dataTable['output_type'] = 'display_data';\n",
              "          await google.colab.output.renderOutput(dataTable, element);\n",
              "          const docLink = document.createElement('div');\n",
              "          docLink.innerHTML = docLinkHtml;\n",
              "          element.appendChild(docLink);\n",
              "        }\n",
              "      </script>\n",
              "    </div>\n",
              "  </div>\n",
              "  "
            ]
          },
          "metadata": {},
          "execution_count": 5
        }
      ]
    },
    {
      "cell_type": "markdown",
      "source": [
        "Pre Processing"
      ],
      "metadata": {
        "id": "uIbZJy5HxRa0"
      }
    },
    {
      "cell_type": "code",
      "source": [
        "amazon.isnull().sum()\n",
        "amazon=amazon.dropna(axis=0)\n",
        "amazon.shape"
      ],
      "metadata": {
        "colab": {
          "base_uri": "https://localhost:8080/",
          "height": 0
        },
        "id": "69T3Z6c8xTV6",
        "outputId": "3b49d643-9249-476f-86fb-7a4e4f1d7e52"
      },
      "execution_count": 6,
      "outputs": [
        {
          "output_type": "execute_result",
          "data": {
            "text/plain": [
              "(14121, 15)"
            ]
          },
          "metadata": {},
          "execution_count": 6
        }
      ]
    },
    {
      "cell_type": "code",
      "source": [
        "flipkart.isnull().sum()\n",
        "flipkart=flipkart.dropna(axis=0)\n",
        "flipkart.shape"
      ],
      "metadata": {
        "colab": {
          "base_uri": "https://localhost:8080/",
          "height": 0
        },
        "id": "0Fkr5nidxdfU",
        "outputId": "3ae93780-f637-47fb-d4ba-e0aac9aab3e5"
      },
      "execution_count": 7,
      "outputs": [
        {
          "output_type": "execute_result",
          "data": {
            "text/plain": [
              "(14058, 15)"
            ]
          },
          "metadata": {},
          "execution_count": 7
        }
      ]
    },
    {
      "cell_type": "code",
      "source": [
        "amazon.columns"
      ],
      "metadata": {
        "colab": {
          "base_uri": "https://localhost:8080/",
          "height": 0
        },
        "id": "z8kULQ6JyuoB",
        "outputId": "d4261149-4be9-4db6-d434-90c8ae7761ac"
      },
      "execution_count": 8,
      "outputs": [
        {
          "output_type": "execute_result",
          "data": {
            "text/plain": [
              "Index(['uniq_id', 'crawl_timestamp', 'product_url', 'product_name',\n",
              "       'product_category_tree', 'pid', 'retail_price', 'discounted_price',\n",
              "       'image', 'is_FK_Advantage_product', 'description', 'product_rating',\n",
              "       'overall_rating', 'brand', 'product_specifications'],\n",
              "      dtype='object')"
            ]
          },
          "metadata": {},
          "execution_count": 8
        }
      ]
    },
    {
      "cell_type": "code",
      "source": [
        "amazon.drop(['crawl_timestamp', 'product_url',\n",
        "       'product_category_tree', 'pid',\n",
        "       'image', 'is_FK_Advantage_product', 'description', 'product_rating',\n",
        "       'overall_rating','product_specifications'], axis=1, inplace=True)"
      ],
      "metadata": {
        "id": "F5sWZxzVy98Z"
      },
      "execution_count": 9,
      "outputs": []
    },
    {
      "cell_type": "code",
      "source": [
        "flipkart.columns"
      ],
      "metadata": {
        "colab": {
          "base_uri": "https://localhost:8080/",
          "height": 0
        },
        "id": "_zR7_kigy0XN",
        "outputId": "e89d1145-3830-4490-8a51-cb6183acbce1"
      },
      "execution_count": 10,
      "outputs": [
        {
          "output_type": "execute_result",
          "data": {
            "text/plain": [
              "Index(['uniq_id', 'crawl_timestamp', 'product_url', 'product_name',\n",
              "       'product_category_tree', 'pid', 'retail_price', 'discounted_price',\n",
              "       'image', 'is_FK_Advantage_product', 'description', 'product_rating',\n",
              "       'overall_rating', 'brand', 'product_specifications'],\n",
              "      dtype='object')"
            ]
          },
          "metadata": {},
          "execution_count": 10
        }
      ]
    },
    {
      "cell_type": "code",
      "source": [
        "flipkart.drop(['crawl_timestamp', 'product_url',\n",
        "       'product_category_tree', 'pid',\n",
        "       'image', 'is_FK_Advantage_product', 'description', 'product_rating',\n",
        "       'overall_rating','product_specifications'], axis=1, inplace=True)"
      ],
      "metadata": {
        "id": "nbqWCma5y-03",
        "colab": {
          "base_uri": "https://localhost:8080/",
          "height": 0
        },
        "outputId": "fc2a4719-f5af-4eb7-b348-5543839ac47d"
      },
      "execution_count": 11,
      "outputs": [
        {
          "output_type": "stream",
          "name": "stderr",
          "text": [
            "/usr/local/lib/python3.8/dist-packages/pandas/core/frame.py:4906: SettingWithCopyWarning: \n",
            "A value is trying to be set on a copy of a slice from a DataFrame\n",
            "\n",
            "See the caveats in the documentation: https://pandas.pydata.org/pandas-docs/stable/user_guide/indexing.html#returning-a-view-versus-a-copy\n",
            "  return super().drop(\n"
          ]
        }
      ]
    },
    {
      "cell_type": "code",
      "source": [
        "amazon.columns"
      ],
      "metadata": {
        "colab": {
          "base_uri": "https://localhost:8080/",
          "height": 0
        },
        "id": "gFdvQjFi1drC",
        "outputId": "1bd0c69e-37e7-4caa-b676-6a8f0da95f7c"
      },
      "execution_count": 12,
      "outputs": [
        {
          "output_type": "execute_result",
          "data": {
            "text/plain": [
              "Index(['uniq_id', 'product_name', 'retail_price', 'discounted_price', 'brand'], dtype='object')"
            ]
          },
          "metadata": {},
          "execution_count": 12
        }
      ]
    },
    {
      "cell_type": "code",
      "source": [
        "amazon.head()"
      ],
      "metadata": {
        "colab": {
          "base_uri": "https://localhost:8080/",
          "height": 206
        },
        "id": "sJHgEAl11Xsj",
        "outputId": "cf3f9a2a-9522-4cd7-fbaa-b940f2272cba"
      },
      "execution_count": 13,
      "outputs": [
        {
          "output_type": "execute_result",
          "data": {
            "text/plain": [
              "                            uniq_id  \\\n",
              "0  ec475b0eb06a90ee1ec5794a314e065d   \n",
              "1  6eade120ebeade57fcbc1120a6a2eeae   \n",
              "2  f4ff5c04e3bb1171fbf06aa9154cf90c   \n",
              "3  72251c555e30c587a23bd01ca73868ac   \n",
              "4  cf519942dbf21758504367ad8795d418   \n",
              "\n",
              "                                      product_name  retail_price  \\\n",
              "0                         Jewelizer Alloy Necklace           -20   \n",
              "1     ABB Premium Make 6 One Way Electrical Switch           -20   \n",
              "2                     Monmione Women's Push-up Bra           -20   \n",
              "3  Allure Auto CM 839 Car Mat Toyota Corolla Altis           -19   \n",
              "4           India Inc Women's Printed Casual Shirt           -19   \n",
              "\n",
              "   discounted_price        brand  \n",
              "0                 0    Jewelizer  \n",
              "1                 0          ABB  \n",
              "2                 0     Monmione  \n",
              "3                 0  Allure Auto  \n",
              "4                 0   Normal Fit  "
            ],
            "text/html": [
              "\n",
              "  <div id=\"df-b6081f4e-42aa-4f78-8f6b-b052265c3c22\">\n",
              "    <div class=\"colab-df-container\">\n",
              "      <div>\n",
              "<style scoped>\n",
              "    .dataframe tbody tr th:only-of-type {\n",
              "        vertical-align: middle;\n",
              "    }\n",
              "\n",
              "    .dataframe tbody tr th {\n",
              "        vertical-align: top;\n",
              "    }\n",
              "\n",
              "    .dataframe thead th {\n",
              "        text-align: right;\n",
              "    }\n",
              "</style>\n",
              "<table border=\"1\" class=\"dataframe\">\n",
              "  <thead>\n",
              "    <tr style=\"text-align: right;\">\n",
              "      <th></th>\n",
              "      <th>uniq_id</th>\n",
              "      <th>product_name</th>\n",
              "      <th>retail_price</th>\n",
              "      <th>discounted_price</th>\n",
              "      <th>brand</th>\n",
              "    </tr>\n",
              "  </thead>\n",
              "  <tbody>\n",
              "    <tr>\n",
              "      <th>0</th>\n",
              "      <td>ec475b0eb06a90ee1ec5794a314e065d</td>\n",
              "      <td>Jewelizer Alloy Necklace</td>\n",
              "      <td>-20</td>\n",
              "      <td>0</td>\n",
              "      <td>Jewelizer</td>\n",
              "    </tr>\n",
              "    <tr>\n",
              "      <th>1</th>\n",
              "      <td>6eade120ebeade57fcbc1120a6a2eeae</td>\n",
              "      <td>ABB Premium Make 6 One Way Electrical Switch</td>\n",
              "      <td>-20</td>\n",
              "      <td>0</td>\n",
              "      <td>ABB</td>\n",
              "    </tr>\n",
              "    <tr>\n",
              "      <th>2</th>\n",
              "      <td>f4ff5c04e3bb1171fbf06aa9154cf90c</td>\n",
              "      <td>Monmione Women's Push-up Bra</td>\n",
              "      <td>-20</td>\n",
              "      <td>0</td>\n",
              "      <td>Monmione</td>\n",
              "    </tr>\n",
              "    <tr>\n",
              "      <th>3</th>\n",
              "      <td>72251c555e30c587a23bd01ca73868ac</td>\n",
              "      <td>Allure Auto CM 839 Car Mat Toyota Corolla Altis</td>\n",
              "      <td>-19</td>\n",
              "      <td>0</td>\n",
              "      <td>Allure Auto</td>\n",
              "    </tr>\n",
              "    <tr>\n",
              "      <th>4</th>\n",
              "      <td>cf519942dbf21758504367ad8795d418</td>\n",
              "      <td>India Inc Women's Printed Casual Shirt</td>\n",
              "      <td>-19</td>\n",
              "      <td>0</td>\n",
              "      <td>Normal Fit</td>\n",
              "    </tr>\n",
              "  </tbody>\n",
              "</table>\n",
              "</div>\n",
              "      <button class=\"colab-df-convert\" onclick=\"convertToInteractive('df-b6081f4e-42aa-4f78-8f6b-b052265c3c22')\"\n",
              "              title=\"Convert this dataframe to an interactive table.\"\n",
              "              style=\"display:none;\">\n",
              "        \n",
              "  <svg xmlns=\"http://www.w3.org/2000/svg\" height=\"24px\"viewBox=\"0 0 24 24\"\n",
              "       width=\"24px\">\n",
              "    <path d=\"M0 0h24v24H0V0z\" fill=\"none\"/>\n",
              "    <path d=\"M18.56 5.44l.94 2.06.94-2.06 2.06-.94-2.06-.94-.94-2.06-.94 2.06-2.06.94zm-11 1L8.5 8.5l.94-2.06 2.06-.94-2.06-.94L8.5 2.5l-.94 2.06-2.06.94zm10 10l.94 2.06.94-2.06 2.06-.94-2.06-.94-.94-2.06-.94 2.06-2.06.94z\"/><path d=\"M17.41 7.96l-1.37-1.37c-.4-.4-.92-.59-1.43-.59-.52 0-1.04.2-1.43.59L10.3 9.45l-7.72 7.72c-.78.78-.78 2.05 0 2.83L4 21.41c.39.39.9.59 1.41.59.51 0 1.02-.2 1.41-.59l7.78-7.78 2.81-2.81c.8-.78.8-2.07 0-2.86zM5.41 20L4 18.59l7.72-7.72 1.47 1.35L5.41 20z\"/>\n",
              "  </svg>\n",
              "      </button>\n",
              "      \n",
              "  <style>\n",
              "    .colab-df-container {\n",
              "      display:flex;\n",
              "      flex-wrap:wrap;\n",
              "      gap: 12px;\n",
              "    }\n",
              "\n",
              "    .colab-df-convert {\n",
              "      background-color: #E8F0FE;\n",
              "      border: none;\n",
              "      border-radius: 50%;\n",
              "      cursor: pointer;\n",
              "      display: none;\n",
              "      fill: #1967D2;\n",
              "      height: 32px;\n",
              "      padding: 0 0 0 0;\n",
              "      width: 32px;\n",
              "    }\n",
              "\n",
              "    .colab-df-convert:hover {\n",
              "      background-color: #E2EBFA;\n",
              "      box-shadow: 0px 1px 2px rgba(60, 64, 67, 0.3), 0px 1px 3px 1px rgba(60, 64, 67, 0.15);\n",
              "      fill: #174EA6;\n",
              "    }\n",
              "\n",
              "    [theme=dark] .colab-df-convert {\n",
              "      background-color: #3B4455;\n",
              "      fill: #D2E3FC;\n",
              "    }\n",
              "\n",
              "    [theme=dark] .colab-df-convert:hover {\n",
              "      background-color: #434B5C;\n",
              "      box-shadow: 0px 1px 3px 1px rgba(0, 0, 0, 0.15);\n",
              "      filter: drop-shadow(0px 1px 2px rgba(0, 0, 0, 0.3));\n",
              "      fill: #FFFFFF;\n",
              "    }\n",
              "  </style>\n",
              "\n",
              "      <script>\n",
              "        const buttonEl =\n",
              "          document.querySelector('#df-b6081f4e-42aa-4f78-8f6b-b052265c3c22 button.colab-df-convert');\n",
              "        buttonEl.style.display =\n",
              "          google.colab.kernel.accessAllowed ? 'block' : 'none';\n",
              "\n",
              "        async function convertToInteractive(key) {\n",
              "          const element = document.querySelector('#df-b6081f4e-42aa-4f78-8f6b-b052265c3c22');\n",
              "          const dataTable =\n",
              "            await google.colab.kernel.invokeFunction('convertToInteractive',\n",
              "                                                     [key], {});\n",
              "          if (!dataTable) return;\n",
              "\n",
              "          const docLinkHtml = 'Like what you see? Visit the ' +\n",
              "            '<a target=\"_blank\" href=https://colab.research.google.com/notebooks/data_table.ipynb>data table notebook</a>'\n",
              "            + ' to learn more about interactive tables.';\n",
              "          element.innerHTML = '';\n",
              "          dataTable['output_type'] = 'display_data';\n",
              "          await google.colab.output.renderOutput(dataTable, element);\n",
              "          const docLink = document.createElement('div');\n",
              "          docLink.innerHTML = docLinkHtml;\n",
              "          element.appendChild(docLink);\n",
              "        }\n",
              "      </script>\n",
              "    </div>\n",
              "  </div>\n",
              "  "
            ]
          },
          "metadata": {},
          "execution_count": 13
        }
      ]
    },
    {
      "cell_type": "code",
      "source": [
        "flipkart.columns"
      ],
      "metadata": {
        "colab": {
          "base_uri": "https://localhost:8080/",
          "height": 0
        },
        "id": "_wBgHbP-1nvN",
        "outputId": "8bc72c34-5cc8-4c23-9d2a-d0aa7d61fcaf"
      },
      "execution_count": 14,
      "outputs": [
        {
          "output_type": "execute_result",
          "data": {
            "text/plain": [
              "Index(['uniq_id', 'product_name', 'retail_price', 'discounted_price', 'brand'], dtype='object')"
            ]
          },
          "metadata": {},
          "execution_count": 14
        }
      ]
    },
    {
      "cell_type": "code",
      "source": [
        "flipkart.head()"
      ],
      "metadata": {
        "colab": {
          "base_uri": "https://localhost:8080/",
          "height": 206
        },
        "id": "90kbkg8Y1pJG",
        "outputId": "2229fe5c-e425-43b7-d273-a73014431cdf"
      },
      "execution_count": 15,
      "outputs": [
        {
          "output_type": "execute_result",
          "data": {
            "text/plain": [
              "                            uniq_id                           product_name  \\\n",
              "0  c2d766ca982eca8304150849735ffef9    Alisha Solid Women's Cycling Shorts   \n",
              "1  7f7036a6d550aaa89d34c77bd39a5e48    FabHomeDecor Fabric Double Sofa Bed   \n",
              "2  f449ec65dcbc041b6ae5e6a32717d01b                             AW Bellies   \n",
              "3  0973b37acd0c664e3de26e97e5571454    Alisha Solid Women's Cycling Shorts   \n",
              "4  bc940ea42ee6bef5ac7cea3fb5cfbee7  Sicons All Purpose Arnica Dog Shampoo   \n",
              "\n",
              "   retail_price  discounted_price         brand  \n",
              "0         999.0             379.0        Alisha  \n",
              "1       32157.0           22646.0  FabHomeDecor  \n",
              "2         999.0             499.0            AW  \n",
              "3         699.0             267.0        Alisha  \n",
              "4         220.0             210.0        Sicons  "
            ],
            "text/html": [
              "\n",
              "  <div id=\"df-aced636a-4f4f-4cad-a0b8-e54ef5adad5f\">\n",
              "    <div class=\"colab-df-container\">\n",
              "      <div>\n",
              "<style scoped>\n",
              "    .dataframe tbody tr th:only-of-type {\n",
              "        vertical-align: middle;\n",
              "    }\n",
              "\n",
              "    .dataframe tbody tr th {\n",
              "        vertical-align: top;\n",
              "    }\n",
              "\n",
              "    .dataframe thead th {\n",
              "        text-align: right;\n",
              "    }\n",
              "</style>\n",
              "<table border=\"1\" class=\"dataframe\">\n",
              "  <thead>\n",
              "    <tr style=\"text-align: right;\">\n",
              "      <th></th>\n",
              "      <th>uniq_id</th>\n",
              "      <th>product_name</th>\n",
              "      <th>retail_price</th>\n",
              "      <th>discounted_price</th>\n",
              "      <th>brand</th>\n",
              "    </tr>\n",
              "  </thead>\n",
              "  <tbody>\n",
              "    <tr>\n",
              "      <th>0</th>\n",
              "      <td>c2d766ca982eca8304150849735ffef9</td>\n",
              "      <td>Alisha Solid Women's Cycling Shorts</td>\n",
              "      <td>999.0</td>\n",
              "      <td>379.0</td>\n",
              "      <td>Alisha</td>\n",
              "    </tr>\n",
              "    <tr>\n",
              "      <th>1</th>\n",
              "      <td>7f7036a6d550aaa89d34c77bd39a5e48</td>\n",
              "      <td>FabHomeDecor Fabric Double Sofa Bed</td>\n",
              "      <td>32157.0</td>\n",
              "      <td>22646.0</td>\n",
              "      <td>FabHomeDecor</td>\n",
              "    </tr>\n",
              "    <tr>\n",
              "      <th>2</th>\n",
              "      <td>f449ec65dcbc041b6ae5e6a32717d01b</td>\n",
              "      <td>AW Bellies</td>\n",
              "      <td>999.0</td>\n",
              "      <td>499.0</td>\n",
              "      <td>AW</td>\n",
              "    </tr>\n",
              "    <tr>\n",
              "      <th>3</th>\n",
              "      <td>0973b37acd0c664e3de26e97e5571454</td>\n",
              "      <td>Alisha Solid Women's Cycling Shorts</td>\n",
              "      <td>699.0</td>\n",
              "      <td>267.0</td>\n",
              "      <td>Alisha</td>\n",
              "    </tr>\n",
              "    <tr>\n",
              "      <th>4</th>\n",
              "      <td>bc940ea42ee6bef5ac7cea3fb5cfbee7</td>\n",
              "      <td>Sicons All Purpose Arnica Dog Shampoo</td>\n",
              "      <td>220.0</td>\n",
              "      <td>210.0</td>\n",
              "      <td>Sicons</td>\n",
              "    </tr>\n",
              "  </tbody>\n",
              "</table>\n",
              "</div>\n",
              "      <button class=\"colab-df-convert\" onclick=\"convertToInteractive('df-aced636a-4f4f-4cad-a0b8-e54ef5adad5f')\"\n",
              "              title=\"Convert this dataframe to an interactive table.\"\n",
              "              style=\"display:none;\">\n",
              "        \n",
              "  <svg xmlns=\"http://www.w3.org/2000/svg\" height=\"24px\"viewBox=\"0 0 24 24\"\n",
              "       width=\"24px\">\n",
              "    <path d=\"M0 0h24v24H0V0z\" fill=\"none\"/>\n",
              "    <path d=\"M18.56 5.44l.94 2.06.94-2.06 2.06-.94-2.06-.94-.94-2.06-.94 2.06-2.06.94zm-11 1L8.5 8.5l.94-2.06 2.06-.94-2.06-.94L8.5 2.5l-.94 2.06-2.06.94zm10 10l.94 2.06.94-2.06 2.06-.94-2.06-.94-.94-2.06-.94 2.06-2.06.94z\"/><path d=\"M17.41 7.96l-1.37-1.37c-.4-.4-.92-.59-1.43-.59-.52 0-1.04.2-1.43.59L10.3 9.45l-7.72 7.72c-.78.78-.78 2.05 0 2.83L4 21.41c.39.39.9.59 1.41.59.51 0 1.02-.2 1.41-.59l7.78-7.78 2.81-2.81c.8-.78.8-2.07 0-2.86zM5.41 20L4 18.59l7.72-7.72 1.47 1.35L5.41 20z\"/>\n",
              "  </svg>\n",
              "      </button>\n",
              "      \n",
              "  <style>\n",
              "    .colab-df-container {\n",
              "      display:flex;\n",
              "      flex-wrap:wrap;\n",
              "      gap: 12px;\n",
              "    }\n",
              "\n",
              "    .colab-df-convert {\n",
              "      background-color: #E8F0FE;\n",
              "      border: none;\n",
              "      border-radius: 50%;\n",
              "      cursor: pointer;\n",
              "      display: none;\n",
              "      fill: #1967D2;\n",
              "      height: 32px;\n",
              "      padding: 0 0 0 0;\n",
              "      width: 32px;\n",
              "    }\n",
              "\n",
              "    .colab-df-convert:hover {\n",
              "      background-color: #E2EBFA;\n",
              "      box-shadow: 0px 1px 2px rgba(60, 64, 67, 0.3), 0px 1px 3px 1px rgba(60, 64, 67, 0.15);\n",
              "      fill: #174EA6;\n",
              "    }\n",
              "\n",
              "    [theme=dark] .colab-df-convert {\n",
              "      background-color: #3B4455;\n",
              "      fill: #D2E3FC;\n",
              "    }\n",
              "\n",
              "    [theme=dark] .colab-df-convert:hover {\n",
              "      background-color: #434B5C;\n",
              "      box-shadow: 0px 1px 3px 1px rgba(0, 0, 0, 0.15);\n",
              "      filter: drop-shadow(0px 1px 2px rgba(0, 0, 0, 0.3));\n",
              "      fill: #FFFFFF;\n",
              "    }\n",
              "  </style>\n",
              "\n",
              "      <script>\n",
              "        const buttonEl =\n",
              "          document.querySelector('#df-aced636a-4f4f-4cad-a0b8-e54ef5adad5f button.colab-df-convert');\n",
              "        buttonEl.style.display =\n",
              "          google.colab.kernel.accessAllowed ? 'block' : 'none';\n",
              "\n",
              "        async function convertToInteractive(key) {\n",
              "          const element = document.querySelector('#df-aced636a-4f4f-4cad-a0b8-e54ef5adad5f');\n",
              "          const dataTable =\n",
              "            await google.colab.kernel.invokeFunction('convertToInteractive',\n",
              "                                                     [key], {});\n",
              "          if (!dataTable) return;\n",
              "\n",
              "          const docLinkHtml = 'Like what you see? Visit the ' +\n",
              "            '<a target=\"_blank\" href=https://colab.research.google.com/notebooks/data_table.ipynb>data table notebook</a>'\n",
              "            + ' to learn more about interactive tables.';\n",
              "          element.innerHTML = '';\n",
              "          dataTable['output_type'] = 'display_data';\n",
              "          await google.colab.output.renderOutput(dataTable, element);\n",
              "          const docLink = document.createElement('div');\n",
              "          docLink.innerHTML = docLinkHtml;\n",
              "          element.appendChild(docLink);\n",
              "        }\n",
              "      </script>\n",
              "    </div>\n",
              "  </div>\n",
              "  "
            ]
          },
          "metadata": {},
          "execution_count": 15
        }
      ]
    },
    {
      "cell_type": "code",
      "source": [
        "amazon.describe"
      ],
      "metadata": {
        "colab": {
          "base_uri": "https://localhost:8080/",
          "height": 0
        },
        "id": "bHBkMiCW1sIs",
        "outputId": "1dcced0c-8b1a-4b4f-9c90-f84b42210f5e"
      },
      "execution_count": 16,
      "outputs": [
        {
          "output_type": "execute_result",
          "data": {
            "text/plain": [
              "<bound method NDFrame.describe of                                 uniq_id  \\\n",
              "0      ec475b0eb06a90ee1ec5794a314e065d   \n",
              "1      6eade120ebeade57fcbc1120a6a2eeae   \n",
              "2      f4ff5c04e3bb1171fbf06aa9154cf90c   \n",
              "3      72251c555e30c587a23bd01ca73868ac   \n",
              "4      cf519942dbf21758504367ad8795d418   \n",
              "...                                 ...   \n",
              "19993  c4b045288524a8770c760ed2bbca2ed5   \n",
              "19994  dd96000fa1d9e408a4fc47ea5c1123e5   \n",
              "19996  07b0df742cdcac28d09c29a1e246fff2   \n",
              "19997  d9fa5b1d8917b841abaef2a1ce032114   \n",
              "19998  3a2546675bc399953779e58d84d56650   \n",
              "\n",
              "                                            product_name  retail_price  \\\n",
              "0                               Jewelizer Alloy Necklace           -20   \n",
              "1           ABB Premium Make 6 One Way Electrical Switch           -20   \n",
              "2                           Monmione Women's Push-up Bra           -20   \n",
              "3        Allure Auto CM 839 Car Mat Toyota Corolla Altis           -19   \n",
              "4                 India Inc Women's Printed Casual Shirt           -19   \n",
              "...                                                  ...           ...   \n",
              "19993  Audeze Lcd2 In Bamboo, High Quality Planar Mag...        116289   \n",
              "19994                Durian Club/3 Leather 3 Seater Sofa        161982   \n",
              "19996                       Durian Leather 2 Seater Sofa        204592   \n",
              "19997                Durian Laze/3 Leather 3 Seater Sofa        217495   \n",
              "19998                       Durian Leather 2 Seater Sofa        250483   \n",
              "\n",
              "       discounted_price        brand  \n",
              "0                     0    Jewelizer  \n",
              "1                     0          ABB  \n",
              "2                     0     Monmione  \n",
              "3                     0  Allure Auto  \n",
              "4                     0   Normal Fit  \n",
              "...                 ...          ...  \n",
              "19993            144560       Audeze  \n",
              "19994            135928       Durian  \n",
              "19996            163788       Durian  \n",
              "19997            157779       Durian  \n",
              "19998            207175       Durian  \n",
              "\n",
              "[14121 rows x 5 columns]>"
            ]
          },
          "metadata": {},
          "execution_count": 16
        }
      ]
    },
    {
      "cell_type": "code",
      "source": [
        "flipkart.describe"
      ],
      "metadata": {
        "colab": {
          "base_uri": "https://localhost:8080/",
          "height": 0
        },
        "id": "aU7GByn81yO-",
        "outputId": "2bf712b8-f8e2-427f-eb49-e07c055a99a0"
      },
      "execution_count": 17,
      "outputs": [
        {
          "output_type": "execute_result",
          "data": {
            "text/plain": [
              "<bound method NDFrame.describe of                                 uniq_id  \\\n",
              "0      c2d766ca982eca8304150849735ffef9   \n",
              "1      7f7036a6d550aaa89d34c77bd39a5e48   \n",
              "2      f449ec65dcbc041b6ae5e6a32717d01b   \n",
              "3      0973b37acd0c664e3de26e97e5571454   \n",
              "4      bc940ea42ee6bef5ac7cea3fb5cfbee7   \n",
              "...                                 ...   \n",
              "19995  7179d2f6c4ad50a17d014ca1d2815156   \n",
              "19996  71ac419198359d37b8fe5e3fffdfee09   \n",
              "19997  93e9d343837400ce0d7980874ece471c   \n",
              "19998  669e79b8fa5d9ae020841c0c97d5e935   \n",
              "19999  cb4fa87a874f715fff567f7b7b3be79c   \n",
              "\n",
              "                                  product_name  retail_price  \\\n",
              "0          Alisha Solid Women's Cycling Shorts         999.0   \n",
              "1          FabHomeDecor Fabric Double Sofa Bed       32157.0   \n",
              "2                                   AW Bellies         999.0   \n",
              "3          Alisha Solid Women's Cycling Shorts         699.0   \n",
              "4        Sicons All Purpose Arnica Dog Shampoo         220.0   \n",
              "...                                        ...           ...   \n",
              "19995           WallDesign Small Vinyl Sticker        1500.0   \n",
              "19996  Wallmantra Large Vinyl Stickers Sticker        1429.0   \n",
              "19997  Elite Collection Medium Acrylic Sticker        1299.0   \n",
              "19998  Elite Collection Medium Acrylic Sticker        1499.0   \n",
              "19999  Elite Collection Medium Acrylic Sticker        1499.0   \n",
              "\n",
              "       discounted_price             brand  \n",
              "0                 379.0            Alisha  \n",
              "1               22646.0      FabHomeDecor  \n",
              "2                 499.0                AW  \n",
              "3                 267.0            Alisha  \n",
              "4                 210.0            Sicons  \n",
              "...                 ...               ...  \n",
              "19995             730.0        WallDesign  \n",
              "19996            1143.0        Wallmantra  \n",
              "19997             999.0  Elite Collection  \n",
              "19998            1199.0  Elite Collection  \n",
              "19999             999.0  Elite Collection  \n",
              "\n",
              "[14058 rows x 5 columns]>"
            ]
          },
          "metadata": {},
          "execution_count": 17
        }
      ]
    },
    {
      "cell_type": "code",
      "source": [
        "display(amazon.dtypes)"
      ],
      "metadata": {
        "colab": {
          "base_uri": "https://localhost:8080/",
          "height": 121
        },
        "id": "nWfadKiv2FYE",
        "outputId": "0bb3b8f5-e306-458d-bddd-91dc4ef1f1fa"
      },
      "execution_count": 18,
      "outputs": [
        {
          "output_type": "display_data",
          "data": {
            "text/plain": [
              "uniq_id             object\n",
              "product_name        object\n",
              "retail_price         int64\n",
              "discounted_price     int64\n",
              "brand               object\n",
              "dtype: object"
            ]
          },
          "metadata": {}
        }
      ]
    },
    {
      "cell_type": "code",
      "source": [
        "display(flipkart.dtypes)"
      ],
      "metadata": {
        "colab": {
          "base_uri": "https://localhost:8080/",
          "height": 121
        },
        "id": "TL0obL9Y2MR_",
        "outputId": "be95a46b-aca8-4035-ddbd-a057da2b242a"
      },
      "execution_count": 19,
      "outputs": [
        {
          "output_type": "display_data",
          "data": {
            "text/plain": [
              "uniq_id              object\n",
              "product_name         object\n",
              "retail_price        float64\n",
              "discounted_price    float64\n",
              "brand                object\n",
              "dtype: object"
            ]
          },
          "metadata": {}
        }
      ]
    },
    {
      "cell_type": "markdown",
      "source": [
        "Checking Duplicate Enteries"
      ],
      "metadata": {
        "id": "mMmd4hay2lzW"
      }
    },
    {
      "cell_type": "code",
      "source": [
        "amazon.duplicated().sum()"
      ],
      "metadata": {
        "colab": {
          "base_uri": "https://localhost:8080/",
          "height": 0
        },
        "id": "_plBQtZH2Z_r",
        "outputId": "7ca57072-57b5-436d-9832-83e58da0ffb1"
      },
      "execution_count": 20,
      "outputs": [
        {
          "output_type": "execute_result",
          "data": {
            "text/plain": [
              "0"
            ]
          },
          "metadata": {},
          "execution_count": 20
        }
      ]
    },
    {
      "cell_type": "code",
      "source": [
        "flipkart.duplicated().sum()"
      ],
      "metadata": {
        "colab": {
          "base_uri": "https://localhost:8080/",
          "height": 0
        },
        "id": "XpSm0sop2ctQ",
        "outputId": "fbeab9f3-be6b-4351-8020-c3594a76c16e"
      },
      "execution_count": 21,
      "outputs": [
        {
          "output_type": "execute_result",
          "data": {
            "text/plain": [
              "0"
            ]
          },
          "metadata": {},
          "execution_count": 21
        }
      ]
    },
    {
      "cell_type": "markdown",
      "source": [
        "#Flipkart EDA"
      ],
      "metadata": {
        "id": "Pfzy9ydx5--_"
      }
    },
    {
      "cell_type": "code",
      "source": [
        "flipkart[\"brand\"].value_counts()"
      ],
      "metadata": {
        "colab": {
          "base_uri": "https://localhost:8080/",
          "height": 0
        },
        "id": "ec-V7AyB50EC",
        "outputId": "dfd881a0-e7ba-4acc-d7d0-011f53d078ed"
      },
      "execution_count": 22,
      "outputs": [
        {
          "output_type": "execute_result",
          "data": {
            "text/plain": [
              "Allure Auto        468\n",
              "Regular            308\n",
              "Voylla             299\n",
              "Slim               284\n",
              "TheLostPuppy       229\n",
              "                  ... \n",
              "ORIFLAME SWEDEN      1\n",
              "Wella                1\n",
              "Cayman               1\n",
              "Nineteen             1\n",
              "Fun To See           1\n",
              "Name: brand, Length: 3481, dtype: int64"
            ]
          },
          "metadata": {},
          "execution_count": 22
        }
      ]
    },
    {
      "cell_type": "code",
      "source": [
        "L1=list(flipkart[\"brand\"].value_counts().keys()[0:30])\n",
        "L2=list(flipkart[\"brand\"].value_counts().values[0:30])"
      ],
      "metadata": {
        "id": "vUqsK2KX6iO7"
      },
      "execution_count": 23,
      "outputs": []
    },
    {
      "cell_type": "code",
      "source": [
        "plt.figure(figsize=(15,8))\n",
        "sns.set(style=\"darkgrid\")\n",
        "sns.barplot(x=L2,y=L1,data=flipkart)\n",
        "plt.xlabel(\"Count\")\n",
        "plt.ylabel(\"Brands On flipkart\")"
      ],
      "metadata": {
        "colab": {
          "base_uri": "https://localhost:8080/",
          "height": 519
        },
        "id": "-Huggi3Y6qfu",
        "outputId": "85394a89-ef4b-4202-af3d-97c22ccd5b02"
      },
      "execution_count": 24,
      "outputs": [
        {
          "output_type": "execute_result",
          "data": {
            "text/plain": [
              "Text(0, 0.5, 'Brands On flipkart')"
            ]
          },
          "metadata": {},
          "execution_count": 24
        },
        {
          "output_type": "display_data",
          "data": {
            "text/plain": [
              "<Figure size 1080x576 with 1 Axes>"
            ],
            "image/png": "[encoded data removed]"
          },
          "metadata": {
            "needs_background": "light"
          }
        }
      ]
    },
    {
      "cell_type": "markdown",
      "source": [
        "Allure Auto Brand has highest products, Multicolor Brand has lowest number of products."
      ],
      "metadata": {
        "id": "PAp7MUHM-PaJ"
      }
    },
    {
      "cell_type": "code",
      "source": [
        "plt.figure(figsize=(15,8))\n",
        "sns.set(style=\"darkgrid\")\n",
        "sns.histplot(data=flipkart,x=\"retail_price\",kde=True, legend=True,bins=70)"
      ],
      "metadata": {
        "colab": {
          "base_uri": "https://localhost:8080/",
          "height": 519
        },
        "id": "Up481xC07EFU",
        "outputId": "d25bcad2-fe9d-4590-cbd9-9699768af7ed"
      },
      "execution_count": 25,
      "outputs": [
        {
          "output_type": "execute_result",
          "data": {
            "text/plain": [
              "<matplotlib.axes._subplots.AxesSubplot at 0x7fd25dd0c730>"
            ]
          },
          "metadata": {},
          "execution_count": 25
        },
        {
          "output_type": "display_data",
          "data": {
            "text/plain": [
              "<Figure size 1080x576 with 1 Axes>"
            ],
            "image/png": "[encoded data removed]"
          },
          "metadata": {}
        }
      ]
    },
    {
      "cell_type": "code",
      "source": [
        "flipkart['retail_price'].describe().astype(int)"
      ],
      "metadata": {
        "colab": {
          "base_uri": "https://localhost:8080/",
          "height": 0
        },
        "id": "CzHQVcJ48Jx9",
        "outputId": "fdcda46b-83f7-4c87-9ef5-976be46cc983"
      },
      "execution_count": 26,
      "outputs": [
        {
          "output_type": "execute_result",
          "data": {
            "text/plain": [
              "count     14058\n",
              "mean       3640\n",
              "std        9272\n",
              "min          35\n",
              "25%         699\n",
              "50%        1100\n",
              "75%        2199\n",
              "max      250500\n",
              "Name: retail_price, dtype: int64"
            ]
          },
          "metadata": {},
          "execution_count": 26
        }
      ]
    },
    {
      "cell_type": "code",
      "source": [
        "#Minimum Product Price id INR 35 and Maximun is INR 250500"
      ],
      "metadata": {
        "id": "yUBB0oe1-bQ3"
      },
      "execution_count": 27,
      "outputs": []
    },
    {
      "cell_type": "markdown",
      "source": [
        "#Amazon EDA"
      ],
      "metadata": {
        "id": "GZGJIm1h-Jc-"
      }
    },
    {
      "cell_type": "code",
      "source": [
        "flipkart[\"brand\"].value_counts()"
      ],
      "metadata": {
        "colab": {
          "base_uri": "https://localhost:8080/",
          "height": 0
        },
        "id": "pp3m0mnF-qyG",
        "outputId": "e403d45e-7414-4a44-a894-a2337e0e65e3"
      },
      "execution_count": 28,
      "outputs": [
        {
          "output_type": "execute_result",
          "data": {
            "text/plain": [
              "Allure Auto        468\n",
              "Regular            308\n",
              "Voylla             299\n",
              "Slim               284\n",
              "TheLostPuppy       229\n",
              "                  ... \n",
              "ORIFLAME SWEDEN      1\n",
              "Wella                1\n",
              "Cayman               1\n",
              "Nineteen             1\n",
              "Fun To See           1\n",
              "Name: brand, Length: 3481, dtype: int64"
            ]
          },
          "metadata": {},
          "execution_count": 28
        }
      ]
    },
    {
      "cell_type": "code",
      "source": [
        "L1=list(flipkart[\"brand\"].value_counts().keys()[0:30])\n",
        "L2=list(flipkart[\"brand\"].value_counts().values[0:30])"
      ],
      "metadata": {
        "id": "9pF1mJRY-uMp"
      },
      "execution_count": 29,
      "outputs": []
    },
    {
      "cell_type": "code",
      "source": [
        "plt.figure(figsize=(15,8))\n",
        "sns.set(style=\"darkgrid\")\n",
        "sns.barplot(x=L2,y=L1,data=flipkart)\n",
        "plt.xlabel(\"Count\")\n",
        "plt.ylabel(\"Brands On flipkart\")"
      ],
      "metadata": {
        "colab": {
          "base_uri": "https://localhost:8080/",
          "height": 0
        },
        "id": "3CTn2QMq-yUR",
        "outputId": "b66f2025-375a-4f76-e096-9d853aad1436"
      },
      "execution_count": 30,
      "outputs": [
        {
          "output_type": "execute_result",
          "data": {
            "text/plain": [
              "Text(0, 0.5, 'Brands On flipkart')"
            ]
          },
          "metadata": {},
          "execution_count": 30
        },
        {
          "output_type": "display_data",
          "data": {
            "text/plain": [
              "<Figure size 1080x576 with 1 Axes>"
            ],
            "image/png": "[encoded data removed]"
          },
          "metadata": {}
        }
      ]
    },
    {
      "cell_type": "code",
      "source": [
        "plt.figure(figsize=(15,8))\n",
        "sns.set(style=\"darkgrid\")\n",
        "sns.histplot(data=flipkart,x=\"retail_price\",kde=True, legend=True,bins=70)"
      ],
      "metadata": {
        "colab": {
          "base_uri": "https://localhost:8080/",
          "height": 0
        },
        "id": "P3xEhXRQ-5TQ",
        "outputId": "2e177d0e-63f3-45aa-c308-4d726e053b59"
      },
      "execution_count": 31,
      "outputs": [
        {
          "output_type": "execute_result",
          "data": {
            "text/plain": [
              "<matplotlib.axes._subplots.AxesSubplot at 0x7fd25dba63a0>"
            ]
          },
          "metadata": {},
          "execution_count": 31
        },
        {
          "output_type": "display_data",
          "data": {
            "text/plain": [
              "<Figure size 1080x576 with 1 Axes>"
            ],
            "image/png": "[encoded data removed]"
          },
          "metadata": {}
        }
      ]
    },
    {
      "cell_type": "code",
      "source": [
        "amazon['retail_price'].describe().astype(int)"
      ],
      "metadata": {
        "colab": {
          "base_uri": "https://localhost:8080/",
          "height": 0
        },
        "id": "_GvLjS4B8XW5",
        "outputId": "f7c76585-6e3a-4f18-af47-6eeebbf0dc48"
      },
      "execution_count": 32,
      "outputs": [
        {
          "output_type": "execute_result",
          "data": {
            "text/plain": [
              "count     14121\n",
              "mean       3613\n",
              "std        9254\n",
              "min         -20\n",
              "25%         686\n",
              "50%        1092\n",
              "75%        2186\n",
              "max      250483\n",
              "Name: retail_price, dtype: int64"
            ]
          },
          "metadata": {},
          "execution_count": 32
        }
      ]
    },
    {
      "cell_type": "markdown",
      "source": [
        "Some Products have negative values"
      ],
      "metadata": {
        "id": "xDaEnHJc_LGc"
      }
    },
    {
      "cell_type": "markdown",
      "source": [
        "Removing products whose price is negative or 0"
      ],
      "metadata": {
        "id": "lUxDVc5V_C75"
      }
    },
    {
      "cell_type": "code",
      "source": [
        "amazon['retail_price'] = amazon['retail_price'][amazon.retail_price >= 0]"
      ],
      "metadata": {
        "id": "c2EmVCDr9vcO"
      },
      "execution_count": 33,
      "outputs": []
    },
    {
      "cell_type": "code",
      "source": [
        "amazon['retail_price'].describe().astype(int)"
      ],
      "metadata": {
        "colab": {
          "base_uri": "https://localhost:8080/",
          "height": 0
        },
        "id": "NCMgsicn9_16",
        "outputId": "4be798bd-7f23-46ce-bf70-243576ccd1bd"
      },
      "execution_count": 34,
      "outputs": [
        {
          "output_type": "execute_result",
          "data": {
            "text/plain": [
              "count     14058\n",
              "mean       3630\n",
              "std        9272\n",
              "min          21\n",
              "25%         688\n",
              "50%        1095\n",
              "75%        2187\n",
              "max      250483\n",
              "Name: retail_price, dtype: int64"
            ]
          },
          "metadata": {},
          "execution_count": 34
        }
      ]
    },
    {
      "cell_type": "code",
      "source": [
        "amazon.columns"
      ],
      "metadata": {
        "colab": {
          "base_uri": "https://localhost:8080/",
          "height": 0
        },
        "id": "LfKtvMpiALCN",
        "outputId": "9082286e-2833-40e7-b1ae-1bbde71aa522"
      },
      "execution_count": 35,
      "outputs": [
        {
          "output_type": "execute_result",
          "data": {
            "text/plain": [
              "Index(['uniq_id', 'product_name', 'retail_price', 'discounted_price', 'brand'], dtype='object')"
            ]
          },
          "metadata": {},
          "execution_count": 35
        }
      ]
    },
    {
      "cell_type": "markdown",
      "source": [
        "Renaming Columns"
      ],
      "metadata": {
        "id": "1aM3hayhAsr_"
      }
    },
    {
      "cell_type": "code",
      "source": [
        "amazon.rename(columns = {'product_name':'Product name in Amazon', 'retail_price':'Retail Price in amazon', 'discounted_price': 'Discounted Price in Amazon',}, inplace = True)"
      ],
      "metadata": {
        "id": "vFNAI75IAuwc"
      },
      "execution_count": 36,
      "outputs": []
    },
    {
      "cell_type": "code",
      "source": [
        "flipkart.rename(columns = {'product_name':'Product name in flipkart', 'retail_price':'Retail Price in flipkart', 'discounted_price': 'Discounted Price in flipkart',}, inplace = True)"
      ],
      "metadata": {
        "id": "iBloJFG3Ar0u"
      },
      "execution_count": 37,
      "outputs": []
    },
    {
      "cell_type": "markdown",
      "source": [
        "Deleting column named brand"
      ],
      "metadata": {
        "id": "FS0OexgkCpjr"
      }
    },
    {
      "cell_type": "code",
      "source": [
        "flipkart.drop(['brand'], axis=1, inplace=True)\n",
        "amazon.drop(['brand'], axis=1, inplace=True)"
      ],
      "metadata": {
        "id": "EQITxGxHCjA0"
      },
      "execution_count": 38,
      "outputs": []
    },
    {
      "cell_type": "code",
      "source": [],
      "metadata": {
        "id": "_x8NM24CCXgL"
      },
      "execution_count": 38,
      "outputs": []
    },
    {
      "cell_type": "markdown",
      "source": [
        "#Merging Both Data Frames"
      ],
      "metadata": {
        "id": "l0Slt4SM_sBM"
      }
    },
    {
      "cell_type": "code",
      "source": [
        "merge=amazon.merge(flipkart,left_on='uniq_id',right_on='uniq_id',how='inner')"
      ],
      "metadata": {
        "id": "eowJ1MbJAF90"
      },
      "execution_count": 39,
      "outputs": []
    },
    {
      "cell_type": "code",
      "source": [
        "merge.head()"
      ],
      "metadata": {
        "colab": {
          "base_uri": "https://localhost:8080/",
          "height": 337
        },
        "id": "M1YcmhFRAXBL",
        "outputId": "2202e93a-cafd-4e0d-f2e0-48ba06faa9e4"
      },
      "execution_count": 40,
      "outputs": [
        {
          "output_type": "execute_result",
          "data": {
            "text/plain": [
              "                            uniq_id  \\\n",
              "0  7c88739f05009f3ed8b06dab0cb204c2   \n",
              "1  aa68675f50a0551b8dadb954017a50a1   \n",
              "2  0190dcb7c0ed541e6fb6381ff82d9853   \n",
              "3  8cfbbe81571f1f7455762ebcfd415d72   \n",
              "4  948699ab8c947ce56c256f9cf7996761   \n",
              "\n",
              "                              Product name in Amazon  Retail Price in amazon  \\\n",
              "0  Havells Havells - Oro 32 One Way Electrical Sw...                    21.0   \n",
              "1                      Geol Wooden Wet and Dry Broom                    27.0   \n",
              "2     Maped Twist and Flex Transparent Rubber Rulers                    46.0   \n",
              "3          KHANNA JUPITER BOARD & ART PAPER BOX FILE                    46.0   \n",
              "4                              Tks Cotton Hair Towel                    52.0   \n",
              "\n",
              "   Discounted Price in Amazon  \\\n",
              "0                          44   \n",
              "1                          39   \n",
              "2                          54   \n",
              "3                          57   \n",
              "4                          90   \n",
              "\n",
              "                            Product name in flipkart  \\\n",
              "0  Havells Havells - Oro 32 One Way Electrical Sw...   \n",
              "1                      Geol Wooden Wet and Dry Broom   \n",
              "2     Maped Twist and Flex Transparent Rubber Rulers   \n",
              "3          Khanna Jupiter Board & Art Paper Box File   \n",
              "4                              Tks Cotton Hair Towel   \n",
              "\n",
              "   Retail Price in flipkart  Discounted Price in flipkart  \n",
              "0                      36.0                          36.0  \n",
              "1                      35.0                          35.0  \n",
              "2                      49.0                          49.0  \n",
              "3                      55.0                          47.0  \n",
              "4                      70.0                          70.0  "
            ],
            "text/html": [
              "\n",
              "  <div id=\"df-2f799141-9f75-41ad-8066-0691252ea5da\">\n",
              "    <div class=\"colab-df-container\">\n",
              "      <div>\n",
              "<style scoped>\n",
              "    .dataframe tbody tr th:only-of-type {\n",
              "        vertical-align: middle;\n",
              "    }\n",
              "\n",
              "    .dataframe tbody tr th {\n",
              "        vertical-align: top;\n",
              "    }\n",
              "\n",
              "    .dataframe thead th {\n",
              "        text-align: right;\n",
              "    }\n",
              "</style>\n",
              "<table border=\"1\" class=\"dataframe\">\n",
              "  <thead>\n",
              "    <tr style=\"text-align: right;\">\n",
              "      <th></th>\n",
              "      <th>uniq_id</th>\n",
              "      <th>Product name in Amazon</th>\n",
              "      <th>Retail Price in amazon</th>\n",
              "      <th>Discounted Price in Amazon</th>\n",
              "      <th>Product name in flipkart</th>\n",
              "      <th>Retail Price in flipkart</th>\n",
              "      <th>Discounted Price in flipkart</th>\n",
              "    </tr>\n",
              "  </thead>\n",
              "  <tbody>\n",
              "    <tr>\n",
              "      <th>0</th>\n",
              "      <td>7c88739f05009f3ed8b06dab0cb204c2</td>\n",
              "      <td>Havells Havells - Oro 32 One Way Electrical Sw...</td>\n",
              "      <td>21.0</td>\n",
              "      <td>44</td>\n",
              "      <td>Havells Havells - Oro 32 One Way Electrical Sw...</td>\n",
              "      <td>36.0</td>\n",
              "      <td>36.0</td>\n",
              "    </tr>\n",
              "    <tr>\n",
              "      <th>1</th>\n",
              "      <td>aa68675f50a0551b8dadb954017a50a1</td>\n",
              "      <td>Geol Wooden Wet and Dry Broom</td>\n",
              "      <td>27.0</td>\n",
              "      <td>39</td>\n",
              "      <td>Geol Wooden Wet and Dry Broom</td>\n",
              "      <td>35.0</td>\n",
              "      <td>35.0</td>\n",
              "    </tr>\n",
              "    <tr>\n",
              "      <th>2</th>\n",
              "      <td>0190dcb7c0ed541e6fb6381ff82d9853</td>\n",
              "      <td>Maped Twist and Flex Transparent Rubber Rulers</td>\n",
              "      <td>46.0</td>\n",
              "      <td>54</td>\n",
              "      <td>Maped Twist and Flex Transparent Rubber Rulers</td>\n",
              "      <td>49.0</td>\n",
              "      <td>49.0</td>\n",
              "    </tr>\n",
              "    <tr>\n",
              "      <th>3</th>\n",
              "      <td>8cfbbe81571f1f7455762ebcfd415d72</td>\n",
              "      <td>KHANNA JUPITER BOARD &amp; ART PAPER BOX FILE</td>\n",
              "      <td>46.0</td>\n",
              "      <td>57</td>\n",
              "      <td>Khanna Jupiter Board &amp; Art Paper Box File</td>\n",
              "      <td>55.0</td>\n",
              "      <td>47.0</td>\n",
              "    </tr>\n",
              "    <tr>\n",
              "      <th>4</th>\n",
              "      <td>948699ab8c947ce56c256f9cf7996761</td>\n",
              "      <td>Tks Cotton Hair Towel</td>\n",
              "      <td>52.0</td>\n",
              "      <td>90</td>\n",
              "      <td>Tks Cotton Hair Towel</td>\n",
              "      <td>70.0</td>\n",
              "      <td>70.0</td>\n",
              "    </tr>\n",
              "  </tbody>\n",
              "</table>\n",
              "</div>\n",
              "      <button class=\"colab-df-convert\" onclick=\"convertToInteractive('df-2f799141-9f75-41ad-8066-0691252ea5da')\"\n",
              "              title=\"Convert this dataframe to an interactive table.\"\n",
              "              style=\"display:none;\">\n",
              "        \n",
              "  <svg xmlns=\"http://www.w3.org/2000/svg\" height=\"24px\"viewBox=\"0 0 24 24\"\n",
              "       width=\"24px\">\n",
              "    <path d=\"M0 0h24v24H0V0z\" fill=\"none\"/>\n",
              "    <path d=\"M18.56 5.44l.94 2.06.94-2.06 2.06-.94-2.06-.94-.94-2.06-.94 2.06-2.06.94zm-11 1L8.5 8.5l.94-2.06 2.06-.94-2.06-.94L8.5 2.5l-.94 2.06-2.06.94zm10 10l.94 2.06.94-2.06 2.06-.94-2.06-.94-.94-2.06-.94 2.06-2.06.94z\"/><path d=\"M17.41 7.96l-1.37-1.37c-.4-.4-.92-.59-1.43-.59-.52 0-1.04.2-1.43.59L10.3 9.45l-7.72 7.72c-.78.78-.78 2.05 0 2.83L4 21.41c.39.39.9.59 1.41.59.51 0 1.02-.2 1.41-.59l7.78-7.78 2.81-2.81c.8-.78.8-2.07 0-2.86zM5.41 20L4 18.59l7.72-7.72 1.47 1.35L5.41 20z\"/>\n",
              "  </svg>\n",
              "      </button>\n",
              "      \n",
              "  <style>\n",
              "    .colab-df-container {\n",
              "      display:flex;\n",
              "      flex-wrap:wrap;\n",
              "      gap: 12px;\n",
              "    }\n",
              "\n",
              "    .colab-df-convert {\n",
              "      background-color: #E8F0FE;\n",
              "      border: none;\n",
              "      border-radius: 50%;\n",
              "      cursor: pointer;\n",
              "      display: none;\n",
              "      fill: #1967D2;\n",
              "      height: 32px;\n",
              "      padding: 0 0 0 0;\n",
              "      width: 32px;\n",
              "    }\n",
              "\n",
              "    .colab-df-convert:hover {\n",
              "      background-color: #E2EBFA;\n",
              "      box-shadow: 0px 1px 2px rgba(60, 64, 67, 0.3), 0px 1px 3px 1px rgba(60, 64, 67, 0.15);\n",
              "      fill: #174EA6;\n",
              "    }\n",
              "\n",
              "    [theme=dark] .colab-df-convert {\n",
              "      background-color: #3B4455;\n",
              "      fill: #D2E3FC;\n",
              "    }\n",
              "\n",
              "    [theme=dark] .colab-df-convert:hover {\n",
              "      background-color: #434B5C;\n",
              "      box-shadow: 0px 1px 3px 1px rgba(0, 0, 0, 0.15);\n",
              "      filter: drop-shadow(0px 1px 2px rgba(0, 0, 0, 0.3));\n",
              "      fill: #FFFFFF;\n",
              "    }\n",
              "  </style>\n",
              "\n",
              "      <script>\n",
              "        const buttonEl =\n",
              "          document.querySelector('#df-2f799141-9f75-41ad-8066-0691252ea5da button.colab-df-convert');\n",
              "        buttonEl.style.display =\n",
              "          google.colab.kernel.accessAllowed ? 'block' : 'none';\n",
              "\n",
              "        async function convertToInteractive(key) {\n",
              "          const element = document.querySelector('#df-2f799141-9f75-41ad-8066-0691252ea5da');\n",
              "          const dataTable =\n",
              "            await google.colab.kernel.invokeFunction('convertToInteractive',\n",
              "                                                     [key], {});\n",
              "          if (!dataTable) return;\n",
              "\n",
              "          const docLinkHtml = 'Like what you see? Visit the ' +\n",
              "            '<a target=\"_blank\" href=https://colab.research.google.com/notebooks/data_table.ipynb>data table notebook</a>'\n",
              "            + ' to learn more about interactive tables.';\n",
              "          element.innerHTML = '';\n",
              "          dataTable['output_type'] = 'display_data';\n",
              "          await google.colab.output.renderOutput(dataTable, element);\n",
              "          const docLink = document.createElement('div');\n",
              "          docLink.innerHTML = docLinkHtml;\n",
              "          element.appendChild(docLink);\n",
              "        }\n",
              "      </script>\n",
              "    </div>\n",
              "  </div>\n",
              "  "
            ]
          },
          "metadata": {},
          "execution_count": 40
        }
      ]
    },
    {
      "cell_type": "code",
      "source": [
        "merge.to_csv('df.csv', index=False)"
      ],
      "metadata": {
        "id": "TvcpRuoACcRJ"
      },
      "execution_count": 41,
      "outputs": []
    },
    {
      "cell_type": "code",
      "source": [
        "df=pd.read_csv('/content/df.csv')"
      ],
      "metadata": {
        "id": "rjQ3bPvgDgCW"
      },
      "execution_count": 42,
      "outputs": []
    },
    {
      "cell_type": "code",
      "source": [
        "#df.isnull().sum()\n",
        "#df=df.dropna(axis=0)\n",
        "#df.shape\n",
        "\n"
      ],
      "metadata": {
        "id": "owPHWPmWCp6o"
      },
      "execution_count": 43,
      "outputs": []
    },
    {
      "cell_type": "code",
      "source": [
        "#df.head()\n"
      ],
      "metadata": {
        "id": "_0iLxPZh5b5y"
      },
      "execution_count": 44,
      "outputs": []
    },
    {
      "cell_type": "code",
      "source": [
        "df.columns"
      ],
      "metadata": {
        "colab": {
          "base_uri": "https://localhost:8080/",
          "height": 0
        },
        "id": "PcXar23b51ji",
        "outputId": "6147440e-a182-4a4a-86df-0e15f27f65a6"
      },
      "execution_count": 45,
      "outputs": [
        {
          "output_type": "execute_result",
          "data": {
            "text/plain": [
              "Index(['uniq_id', 'Product name in Amazon', 'Retail Price in amazon',\n",
              "       'Discounted Price in Amazon', 'Product name in flipkart',\n",
              "       'Retail Price in flipkart', 'Discounted Price in flipkart'],\n",
              "      dtype='object')"
            ]
          },
          "metadata": {},
          "execution_count": 45
        }
      ]
    },
    {
      "cell_type": "markdown",
      "source": [
        "#Query"
      ],
      "metadata": {
        "id": "AsXo8ittEHkY"
      }
    },
    {
      "cell_type": "code",
      "source": [
        "import re\n",
        "#search=[]\n",
        "search=input(\"Enter Product To Search:\\n\")\n",
        "#search=search.split()\n",
        "\n"
      ],
      "metadata": {
        "colab": {
          "base_uri": "https://localhost:8080/",
          "height": 0
        },
        "id": "_tBLcBDE5K1f",
        "outputId": "f766aa5b-c9e9-4a5b-cc40-1555fb79aeb4"
      },
      "execution_count": 59,
      "outputs": [
        {
          "name": "stdout",
          "output_type": "stream",
          "text": [
            "Enter Product To Search:\n",
            "havells\n"
          ]
        }
      ]
    },
    {
      "cell_type": "code",
      "source": [
        "df.loc[df['Product name in Amazon'].str.contains(search,na=False, flags=re.IGNORECASE)]\n"
      ],
      "metadata": {
        "colab": {
          "base_uri": "https://localhost:8080/",
          "height": 354
        },
        "id": "xwcNi_YTrS-Z",
        "outputId": "6e1ef189-c065-4553-cdd9-bec346a21dd6"
      },
      "execution_count": 60,
      "outputs": [
        {
          "output_type": "execute_result",
          "data": {
            "text/plain": [
              "                               uniq_id  \\\n",
              "0     7c88739f05009f3ed8b06dab0cb204c2   \n",
              "66    447a60a4ffffe50ab35276eb3df37263   \n",
              "165   7f3cb616bca53705dccff1e91c3654f9   \n",
              "2181  e6c65e2597c324eee4e4a5c1e3fa2efa   \n",
              "4577  5142cc70d7e31a29b8ccb7f0d8ac1341   \n",
              "\n",
              "                                 Product name in Amazon  \\\n",
              "0     Havells Havells - Oro 32 One Way Electrical Sw...   \n",
              "66    Havells Crabtree - Murano 10 One Way Electrica...   \n",
              "165   Havells Crabtree - Murano 10 One Way Electrica...   \n",
              "2181  Havells Havells - Oro 10 One Way Electrical Sw...   \n",
              "4577  Havells Crabtree - Murano 32 One Way Electrica...   \n",
              "\n",
              "      Retail Price in amazon  Discounted Price in Amazon  \\\n",
              "0                       21.0                          44   \n",
              "66                     169.0                         216   \n",
              "165                    228.0                         308   \n",
              "2181                   502.0                         643   \n",
              "4577                   809.0                         969   \n",
              "\n",
              "                               Product name in flipkart  \\\n",
              "0     Havells Havells - Oro 32 One Way Electrical Sw...   \n",
              "66    Havells Crabtree - Murano 10 One Way Electrica...   \n",
              "165   Havells Crabtree - Murano 10 One Way Electrica...   \n",
              "2181  Havells Havells - Oro 10 One Way Electrical Sw...   \n",
              "4577  Havells Crabtree - Murano 32 One Way Electrica...   \n",
              "\n",
              "      Retail Price in flipkart  Discounted Price in flipkart  \n",
              "0                         36.0                          36.0  \n",
              "66                       170.0                         170.0  \n",
              "165                      240.0                         240.0  \n",
              "2181                     510.0                         495.0  \n",
              "4577                     810.0                         810.0  "
            ],
            "text/html": [
              "\n",
              "  <div id=\"df-ecedd8ca-3af1-4e8c-8700-3bab7b005759\">\n",
              "    <div class=\"colab-df-container\">\n",
              "      <div>\n",
              "<style scoped>\n",
              "    .dataframe tbody tr th:only-of-type {\n",
              "        vertical-align: middle;\n",
              "    }\n",
              "\n",
              "    .dataframe tbody tr th {\n",
              "        vertical-align: top;\n",
              "    }\n",
              "\n",
              "    .dataframe thead th {\n",
              "        text-align: right;\n",
              "    }\n",
              "</style>\n",
              "<table border=\"1\" class=\"dataframe\">\n",
              "  <thead>\n",
              "    <tr style=\"text-align: right;\">\n",
              "      <th></th>\n",
              "      <th>uniq_id</th>\n",
              "      <th>Product name in Amazon</th>\n",
              "      <th>Retail Price in amazon</th>\n",
              "      <th>Discounted Price in Amazon</th>\n",
              "      <th>Product name in flipkart</th>\n",
              "      <th>Retail Price in flipkart</th>\n",
              "      <th>Discounted Price in flipkart</th>\n",
              "    </tr>\n",
              "  </thead>\n",
              "  <tbody>\n",
              "    <tr>\n",
              "      <th>0</th>\n",
              "      <td>7c88739f05009f3ed8b06dab0cb204c2</td>\n",
              "      <td>Havells Havells - Oro 32 One Way Electrical Sw...</td>\n",
              "      <td>21.0</td>\n",
              "      <td>44</td>\n",
              "      <td>Havells Havells - Oro 32 One Way Electrical Sw...</td>\n",
              "      <td>36.0</td>\n",
              "      <td>36.0</td>\n",
              "    </tr>\n",
              "    <tr>\n",
              "      <th>66</th>\n",
              "      <td>447a60a4ffffe50ab35276eb3df37263</td>\n",
              "      <td>Havells Crabtree - Murano 10 One Way Electrica...</td>\n",
              "      <td>169.0</td>\n",
              "      <td>216</td>\n",
              "      <td>Havells Crabtree - Murano 10 One Way Electrica...</td>\n",
              "      <td>170.0</td>\n",
              "      <td>170.0</td>\n",
              "    </tr>\n",
              "    <tr>\n",
              "      <th>165</th>\n",
              "      <td>7f3cb616bca53705dccff1e91c3654f9</td>\n",
              "      <td>Havells Crabtree - Murano 10 One Way Electrica...</td>\n",
              "      <td>228.0</td>\n",
              "      <td>308</td>\n",
              "      <td>Havells Crabtree - Murano 10 One Way Electrica...</td>\n",
              "      <td>240.0</td>\n",
              "      <td>240.0</td>\n",
              "    </tr>\n",
              "    <tr>\n",
              "      <th>2181</th>\n",
              "      <td>e6c65e2597c324eee4e4a5c1e3fa2efa</td>\n",
              "      <td>Havells Havells - Oro 10 One Way Electrical Sw...</td>\n",
              "      <td>502.0</td>\n",
              "      <td>643</td>\n",
              "      <td>Havells Havells - Oro 10 One Way Electrical Sw...</td>\n",
              "      <td>510.0</td>\n",
              "      <td>495.0</td>\n",
              "    </tr>\n",
              "    <tr>\n",
              "      <th>4577</th>\n",
              "      <td>5142cc70d7e31a29b8ccb7f0d8ac1341</td>\n",
              "      <td>Havells Crabtree - Murano 32 One Way Electrica...</td>\n",
              "      <td>809.0</td>\n",
              "      <td>969</td>\n",
              "      <td>Havells Crabtree - Murano 32 One Way Electrica...</td>\n",
              "      <td>810.0</td>\n",
              "      <td>810.0</td>\n",
              "    </tr>\n",
              "  </tbody>\n",
              "</table>\n",
              "</div>\n",
              "      <button class=\"colab-df-convert\" onclick=\"convertToInteractive('df-ecedd8ca-3af1-4e8c-8700-3bab7b005759')\"\n",
              "              title=\"Convert this dataframe to an interactive table.\"\n",
              "              style=\"display:none;\">\n",
              "        \n",
              "  <svg xmlns=\"http://www.w3.org/2000/svg\" height=\"24px\"viewBox=\"0 0 24 24\"\n",
              "       width=\"24px\">\n",
              "    <path d=\"M0 0h24v24H0V0z\" fill=\"none\"/>\n",
              "    <path d=\"M18.56 5.44l.94 2.06.94-2.06 2.06-.94-2.06-.94-.94-2.06-.94 2.06-2.06.94zm-11 1L8.5 8.5l.94-2.06 2.06-.94-2.06-.94L8.5 2.5l-.94 2.06-2.06.94zm10 10l.94 2.06.94-2.06 2.06-.94-2.06-.94-.94-2.06-.94 2.06-2.06.94z\"/><path d=\"M17.41 7.96l-1.37-1.37c-.4-.4-.92-.59-1.43-.59-.52 0-1.04.2-1.43.59L10.3 9.45l-7.72 7.72c-.78.78-.78 2.05 0 2.83L4 21.41c.39.39.9.59 1.41.59.51 0 1.02-.2 1.41-.59l7.78-7.78 2.81-2.81c.8-.78.8-2.07 0-2.86zM5.41 20L4 18.59l7.72-7.72 1.47 1.35L5.41 20z\"/>\n",
              "  </svg>\n",
              "      </button>\n",
              "      \n",
              "  <style>\n",
              "    .colab-df-container {\n",
              "      display:flex;\n",
              "      flex-wrap:wrap;\n",
              "      gap: 12px;\n",
              "    }\n",
              "\n",
              "    .colab-df-convert {\n",
              "      background-color: #E8F0FE;\n",
              "      border: none;\n",
              "      border-radius: 50%;\n",
              "      cursor: pointer;\n",
              "      display: none;\n",
              "      fill: #1967D2;\n",
              "      height: 32px;\n",
              "      padding: 0 0 0 0;\n",
              "      width: 32px;\n",
              "    }\n",
              "\n",
              "    .colab-df-convert:hover {\n",
              "      background-color: #E2EBFA;\n",
              "      box-shadow: 0px 1px 2px rgba(60, 64, 67, 0.3), 0px 1px 3px 1px rgba(60, 64, 67, 0.15);\n",
              "      fill: #174EA6;\n",
              "    }\n",
              "\n",
              "    [theme=dark] .colab-df-convert {\n",
              "      background-color: #3B4455;\n",
              "      fill: #D2E3FC;\n",
              "    }\n",
              "\n",
              "    [theme=dark] .colab-df-convert:hover {\n",
              "      background-color: #434B5C;\n",
              "      box-shadow: 0px 1px 3px 1px rgba(0, 0, 0, 0.15);\n",
              "      filter: drop-shadow(0px 1px 2px rgba(0, 0, 0, 0.3));\n",
              "      fill: #FFFFFF;\n",
              "    }\n",
              "  </style>\n",
              "\n",
              "      <script>\n",
              "        const buttonEl =\n",
              "          document.querySelector('#df-ecedd8ca-3af1-4e8c-8700-3bab7b005759 button.colab-df-convert');\n",
              "        buttonEl.style.display =\n",
              "          google.colab.kernel.accessAllowed ? 'block' : 'none';\n",
              "\n",
              "        async function convertToInteractive(key) {\n",
              "          const element = document.querySelector('#df-ecedd8ca-3af1-4e8c-8700-3bab7b005759');\n",
              "          const dataTable =\n",
              "            await google.colab.kernel.invokeFunction('convertToInteractive',\n",
              "                                                     [key], {});\n",
              "          if (!dataTable) return;\n",
              "\n",
              "          const docLinkHtml = 'Like what you see? Visit the ' +\n",
              "            '<a target=\"_blank\" href=https://colab.research.google.com/notebooks/data_table.ipynb>data table notebook</a>'\n",
              "            + ' to learn more about interactive tables.';\n",
              "          element.innerHTML = '';\n",
              "          dataTable['output_type'] = 'display_data';\n",
              "          await google.colab.output.renderOutput(dataTable, element);\n",
              "          const docLink = document.createElement('div');\n",
              "          docLink.innerHTML = docLinkHtml;\n",
              "          element.appendChild(docLink);\n",
              "        }\n",
              "      </script>\n",
              "    </div>\n",
              "  </div>\n",
              "  "
            ]
          },
          "metadata": {},
          "execution_count": 60
        }
      ]
    }
  ]
}